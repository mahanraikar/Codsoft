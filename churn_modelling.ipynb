{
 "cells": [
  {
   "cell_type": "code",
   "execution_count": 76,
   "id": "b914f834",
   "metadata": {},
   "outputs": [],
   "source": [
    "import numpy as np\n",
    "import pandas as pd\n",
    "from matplotlib import pyplot as plt\n",
    "import seaborn as sns"
   ]
  },
  {
   "cell_type": "code",
   "execution_count": 77,
   "id": "748f5666",
   "metadata": {},
   "outputs": [
    {
     "name": "stdout",
     "output_type": "stream",
     "text": [
      "Requirement already satisfied: tensorflow in c:\\users\\mahan\\anaconda3\\lib\\site-packages (2.13.0)\n",
      "Requirement already satisfied: tensorflow-intel==2.13.0 in c:\\users\\mahan\\anaconda3\\lib\\site-packages (from tensorflow) (2.13.0)\n",
      "Requirement already satisfied: absl-py>=1.0.0 in c:\\users\\mahan\\anaconda3\\lib\\site-packages (from tensorflow-intel==2.13.0->tensorflow) (1.4.0)\n",
      "Requirement already satisfied: astunparse>=1.6.0 in c:\\users\\mahan\\anaconda3\\lib\\site-packages (from tensorflow-intel==2.13.0->tensorflow) (1.6.3)\n",
      "Requirement already satisfied: flatbuffers>=23.1.21 in c:\\users\\mahan\\anaconda3\\lib\\site-packages (from tensorflow-intel==2.13.0->tensorflow) (23.5.26)\n",
      "Requirement already satisfied: gast<=0.4.0,>=0.2.1 in c:\\users\\mahan\\anaconda3\\lib\\site-packages (from tensorflow-intel==2.13.0->tensorflow) (0.4.0)\n",
      "Requirement already satisfied: google-pasta>=0.1.1 in c:\\users\\mahan\\anaconda3\\lib\\site-packages (from tensorflow-intel==2.13.0->tensorflow) (0.2.0)\n",
      "Requirement already satisfied: h5py>=2.9.0 in c:\\users\\mahan\\anaconda3\\lib\\site-packages (from tensorflow-intel==2.13.0->tensorflow) (3.7.0)\n",
      "Requirement already satisfied: libclang>=13.0.0 in c:\\users\\mahan\\anaconda3\\lib\\site-packages (from tensorflow-intel==2.13.0->tensorflow) (16.0.6)\n",
      "Requirement already satisfied: numpy<=1.24.3,>=1.22 in c:\\users\\mahan\\anaconda3\\lib\\site-packages (from tensorflow-intel==2.13.0->tensorflow) (1.24.3)\n",
      "Requirement already satisfied: opt-einsum>=2.3.2 in c:\\users\\mahan\\anaconda3\\lib\\site-packages (from tensorflow-intel==2.13.0->tensorflow) (3.3.0)\n",
      "Requirement already satisfied: packaging in c:\\users\\mahan\\anaconda3\\lib\\site-packages (from tensorflow-intel==2.13.0->tensorflow) (23.0)\n",
      "Requirement already satisfied: protobuf!=4.21.0,!=4.21.1,!=4.21.2,!=4.21.3,!=4.21.4,!=4.21.5,<5.0.0dev,>=3.20.3 in c:\\users\\mahan\\anaconda3\\lib\\site-packages (from tensorflow-intel==2.13.0->tensorflow) (4.24.2)\n",
      "Requirement already satisfied: setuptools in c:\\users\\mahan\\anaconda3\\lib\\site-packages (from tensorflow-intel==2.13.0->tensorflow) (68.0.0)\n",
      "Requirement already satisfied: six>=1.12.0 in c:\\users\\mahan\\anaconda3\\lib\\site-packages (from tensorflow-intel==2.13.0->tensorflow) (1.16.0)\n",
      "Requirement already satisfied: termcolor>=1.1.0 in c:\\users\\mahan\\anaconda3\\lib\\site-packages (from tensorflow-intel==2.13.0->tensorflow) (2.3.0)\n",
      "Requirement already satisfied: typing-extensions<4.6.0,>=3.6.6 in c:\\users\\mahan\\anaconda3\\lib\\site-packages (from tensorflow-intel==2.13.0->tensorflow) (4.5.0)\n",
      "Requirement already satisfied: wrapt>=1.11.0 in c:\\users\\mahan\\anaconda3\\lib\\site-packages (from tensorflow-intel==2.13.0->tensorflow) (1.14.1)\n",
      "Requirement already satisfied: grpcio<2.0,>=1.24.3 in c:\\users\\mahan\\anaconda3\\lib\\site-packages (from tensorflow-intel==2.13.0->tensorflow) (1.57.0)\n",
      "Requirement already satisfied: tensorboard<2.14,>=2.13 in c:\\users\\mahan\\anaconda3\\lib\\site-packages (from tensorflow-intel==2.13.0->tensorflow) (2.13.0)\n",
      "Requirement already satisfied: tensorflow-estimator<2.14,>=2.13.0 in c:\\users\\mahan\\anaconda3\\lib\\site-packages (from tensorflow-intel==2.13.0->tensorflow) (2.13.0)\n",
      "Requirement already satisfied: keras<2.14,>=2.13.1 in c:\\users\\mahan\\anaconda3\\lib\\site-packages (from tensorflow-intel==2.13.0->tensorflow) (2.13.1)\n",
      "Requirement already satisfied: tensorflow-io-gcs-filesystem>=0.23.1 in c:\\users\\mahan\\anaconda3\\lib\\site-packages (from tensorflow-intel==2.13.0->tensorflow) (0.31.0)\n",
      "Requirement already satisfied: wheel<1.0,>=0.23.0 in c:\\users\\mahan\\anaconda3\\lib\\site-packages (from astunparse>=1.6.0->tensorflow-intel==2.13.0->tensorflow) (0.38.4)\n",
      "Requirement already satisfied: google-auth<3,>=1.6.3 in c:\\users\\mahan\\anaconda3\\lib\\site-packages (from tensorboard<2.14,>=2.13->tensorflow-intel==2.13.0->tensorflow) (2.22.0)\n",
      "Requirement already satisfied: google-auth-oauthlib<1.1,>=0.5 in c:\\users\\mahan\\anaconda3\\lib\\site-packages (from tensorboard<2.14,>=2.13->tensorflow-intel==2.13.0->tensorflow) (1.0.0)\n",
      "Requirement already satisfied: markdown>=2.6.8 in c:\\users\\mahan\\anaconda3\\lib\\site-packages (from tensorboard<2.14,>=2.13->tensorflow-intel==2.13.0->tensorflow) (3.4.1)\n",
      "Requirement already satisfied: requests<3,>=2.21.0 in c:\\users\\mahan\\anaconda3\\lib\\site-packages (from tensorboard<2.14,>=2.13->tensorflow-intel==2.13.0->tensorflow) (2.31.0)\n",
      "Requirement already satisfied: tensorboard-data-server<0.8.0,>=0.7.0 in c:\\users\\mahan\\anaconda3\\lib\\site-packages (from tensorboard<2.14,>=2.13->tensorflow-intel==2.13.0->tensorflow) (0.7.1)\n",
      "Requirement already satisfied: werkzeug>=1.0.1 in c:\\users\\mahan\\anaconda3\\lib\\site-packages (from tensorboard<2.14,>=2.13->tensorflow-intel==2.13.0->tensorflow) (2.2.3)\n",
      "Requirement already satisfied: cachetools<6.0,>=2.0.0 in c:\\users\\mahan\\anaconda3\\lib\\site-packages (from google-auth<3,>=1.6.3->tensorboard<2.14,>=2.13->tensorflow-intel==2.13.0->tensorflow) (5.3.1)\n",
      "Requirement already satisfied: pyasn1-modules>=0.2.1 in c:\\users\\mahan\\anaconda3\\lib\\site-packages (from google-auth<3,>=1.6.3->tensorboard<2.14,>=2.13->tensorflow-intel==2.13.0->tensorflow) (0.2.8)\n",
      "Requirement already satisfied: rsa<5,>=3.1.4 in c:\\users\\mahan\\anaconda3\\lib\\site-packages (from google-auth<3,>=1.6.3->tensorboard<2.14,>=2.13->tensorflow-intel==2.13.0->tensorflow) (4.9)\n",
      "Requirement already satisfied: urllib3<2.0 in c:\\users\\mahan\\anaconda3\\lib\\site-packages (from google-auth<3,>=1.6.3->tensorboard<2.14,>=2.13->tensorflow-intel==2.13.0->tensorflow) (1.26.16)\n",
      "Requirement already satisfied: requests-oauthlib>=0.7.0 in c:\\users\\mahan\\anaconda3\\lib\\site-packages (from google-auth-oauthlib<1.1,>=0.5->tensorboard<2.14,>=2.13->tensorflow-intel==2.13.0->tensorflow) (1.3.1)\n",
      "Requirement already satisfied: charset-normalizer<4,>=2 in c:\\users\\mahan\\anaconda3\\lib\\site-packages (from requests<3,>=2.21.0->tensorboard<2.14,>=2.13->tensorflow-intel==2.13.0->tensorflow) (2.0.4)\n",
      "Requirement already satisfied: idna<4,>=2.5 in c:\\users\\mahan\\anaconda3\\lib\\site-packages (from requests<3,>=2.21.0->tensorboard<2.14,>=2.13->tensorflow-intel==2.13.0->tensorflow) (3.4)\n",
      "Requirement already satisfied: certifi>=2017.4.17 in c:\\users\\mahan\\anaconda3\\lib\\site-packages (from requests<3,>=2.21.0->tensorboard<2.14,>=2.13->tensorflow-intel==2.13.0->tensorflow) (2023.7.22)\n",
      "Requirement already satisfied: MarkupSafe>=2.1.1 in c:\\users\\mahan\\anaconda3\\lib\\site-packages (from werkzeug>=1.0.1->tensorboard<2.14,>=2.13->tensorflow-intel==2.13.0->tensorflow) (2.1.1)\n",
      "Requirement already satisfied: pyasn1<0.5.0,>=0.4.6 in c:\\users\\mahan\\anaconda3\\lib\\site-packages (from pyasn1-modules>=0.2.1->google-auth<3,>=1.6.3->tensorboard<2.14,>=2.13->tensorflow-intel==2.13.0->tensorflow) (0.4.8)\n",
      "Requirement already satisfied: oauthlib>=3.0.0 in c:\\users\\mahan\\anaconda3\\lib\\site-packages (from requests-oauthlib>=0.7.0->google-auth-oauthlib<1.1,>=0.5->tensorboard<2.14,>=2.13->tensorflow-intel==2.13.0->tensorflow) (3.2.2)\n",
      "Note: you may need to restart the kernel to use updated packages.\n"
     ]
    }
   ],
   "source": [
    "pip install tensorflow"
   ]
  },
  {
   "cell_type": "code",
   "execution_count": 79,
   "id": "7c14f750",
   "metadata": {},
   "outputs": [],
   "source": [
    "df = pd.read_csv('C:\\\\Users\\\\Mahan\\\\Downloads\\\\project2\\\\Churn_Modelling.csv')"
   ]
  },
  {
   "cell_type": "code",
   "execution_count": 80,
   "id": "d6a8d159",
   "metadata": {},
   "outputs": [
    {
     "data": {
      "text/html": [
       "<div>\n",
       "<style scoped>\n",
       "    .dataframe tbody tr th:only-of-type {\n",
       "        vertical-align: middle;\n",
       "    }\n",
       "\n",
       "    .dataframe tbody tr th {\n",
       "        vertical-align: top;\n",
       "    }\n",
       "\n",
       "    .dataframe thead th {\n",
       "        text-align: right;\n",
       "    }\n",
       "</style>\n",
       "<table border=\"1\" class=\"dataframe\">\n",
       "  <thead>\n",
       "    <tr style=\"text-align: right;\">\n",
       "      <th></th>\n",
       "      <th>RowNumber</th>\n",
       "      <th>CustomerId</th>\n",
       "      <th>Surname</th>\n",
       "      <th>CreditScore</th>\n",
       "      <th>Geography</th>\n",
       "      <th>Gender</th>\n",
       "      <th>Age</th>\n",
       "      <th>Tenure</th>\n",
       "      <th>Balance</th>\n",
       "      <th>NumOfProducts</th>\n",
       "      <th>HasCrCard</th>\n",
       "      <th>IsActiveMember</th>\n",
       "      <th>EstimatedSalary</th>\n",
       "      <th>Exited</th>\n",
       "    </tr>\n",
       "  </thead>\n",
       "  <tbody>\n",
       "    <tr>\n",
       "      <th>0</th>\n",
       "      <td>1</td>\n",
       "      <td>15634602</td>\n",
       "      <td>Hargrave</td>\n",
       "      <td>619</td>\n",
       "      <td>France</td>\n",
       "      <td>Female</td>\n",
       "      <td>42</td>\n",
       "      <td>2</td>\n",
       "      <td>0.00</td>\n",
       "      <td>1</td>\n",
       "      <td>1</td>\n",
       "      <td>1</td>\n",
       "      <td>101348.88</td>\n",
       "      <td>1</td>\n",
       "    </tr>\n",
       "    <tr>\n",
       "      <th>1</th>\n",
       "      <td>2</td>\n",
       "      <td>15647311</td>\n",
       "      <td>Hill</td>\n",
       "      <td>608</td>\n",
       "      <td>Spain</td>\n",
       "      <td>Female</td>\n",
       "      <td>41</td>\n",
       "      <td>1</td>\n",
       "      <td>83807.86</td>\n",
       "      <td>1</td>\n",
       "      <td>0</td>\n",
       "      <td>1</td>\n",
       "      <td>112542.58</td>\n",
       "      <td>0</td>\n",
       "    </tr>\n",
       "    <tr>\n",
       "      <th>2</th>\n",
       "      <td>3</td>\n",
       "      <td>15619304</td>\n",
       "      <td>Onio</td>\n",
       "      <td>502</td>\n",
       "      <td>France</td>\n",
       "      <td>Female</td>\n",
       "      <td>42</td>\n",
       "      <td>8</td>\n",
       "      <td>159660.80</td>\n",
       "      <td>3</td>\n",
       "      <td>1</td>\n",
       "      <td>0</td>\n",
       "      <td>113931.57</td>\n",
       "      <td>1</td>\n",
       "    </tr>\n",
       "    <tr>\n",
       "      <th>3</th>\n",
       "      <td>4</td>\n",
       "      <td>15701354</td>\n",
       "      <td>Boni</td>\n",
       "      <td>699</td>\n",
       "      <td>France</td>\n",
       "      <td>Female</td>\n",
       "      <td>39</td>\n",
       "      <td>1</td>\n",
       "      <td>0.00</td>\n",
       "      <td>2</td>\n",
       "      <td>0</td>\n",
       "      <td>0</td>\n",
       "      <td>93826.63</td>\n",
       "      <td>0</td>\n",
       "    </tr>\n",
       "    <tr>\n",
       "      <th>4</th>\n",
       "      <td>5</td>\n",
       "      <td>15737888</td>\n",
       "      <td>Mitchell</td>\n",
       "      <td>850</td>\n",
       "      <td>Spain</td>\n",
       "      <td>Female</td>\n",
       "      <td>43</td>\n",
       "      <td>2</td>\n",
       "      <td>125510.82</td>\n",
       "      <td>1</td>\n",
       "      <td>1</td>\n",
       "      <td>1</td>\n",
       "      <td>79084.10</td>\n",
       "      <td>0</td>\n",
       "    </tr>\n",
       "  </tbody>\n",
       "</table>\n",
       "</div>"
      ],
      "text/plain": [
       "   RowNumber  CustomerId   Surname  CreditScore Geography  Gender  Age  \\\n",
       "0  1          15634602    Hargrave  619          France    Female  42    \n",
       "1  2          15647311    Hill      608          Spain     Female  41    \n",
       "2  3          15619304    Onio      502          France    Female  42    \n",
       "3  4          15701354    Boni      699          France    Female  39    \n",
       "4  5          15737888    Mitchell  850          Spain     Female  43    \n",
       "\n",
       "   Tenure    Balance  NumOfProducts  HasCrCard  IsActiveMember  \\\n",
       "0  2       0.00       1              1          1                \n",
       "1  1       83807.86   1              0          1                \n",
       "2  8       159660.80  3              1          0                \n",
       "3  1       0.00       2              0          0                \n",
       "4  2       125510.82  1              1          1                \n",
       "\n",
       "   EstimatedSalary  Exited  \n",
       "0  101348.88        1       \n",
       "1  112542.58        0       \n",
       "2  113931.57        1       \n",
       "3  93826.63         0       \n",
       "4  79084.10         0       "
      ]
     },
     "execution_count": 80,
     "metadata": {},
     "output_type": "execute_result"
    }
   ],
   "source": [
    "df.head()"
   ]
  },
  {
   "cell_type": "code",
   "execution_count": 81,
   "id": "47846916",
   "metadata": {},
   "outputs": [
    {
     "data": {
      "text/plain": [
       "RowNumber          0\n",
       "CustomerId         0\n",
       "Surname            0\n",
       "CreditScore        0\n",
       "Geography          0\n",
       "Gender             0\n",
       "Age                0\n",
       "Tenure             0\n",
       "Balance            0\n",
       "NumOfProducts      0\n",
       "HasCrCard          0\n",
       "IsActiveMember     0\n",
       "EstimatedSalary    0\n",
       "Exited             0\n",
       "dtype: int64"
      ]
     },
     "execution_count": 81,
     "metadata": {},
     "output_type": "execute_result"
    }
   ],
   "source": [
    "df.isnull().sum() #no null value present"
   ]
  },
  {
   "cell_type": "code",
   "execution_count": 82,
   "id": "35cfbca2",
   "metadata": {},
   "outputs": [
    {
     "data": {
      "text/html": [
       "<div>\n",
       "<style scoped>\n",
       "    .dataframe tbody tr th:only-of-type {\n",
       "        vertical-align: middle;\n",
       "    }\n",
       "\n",
       "    .dataframe tbody tr th {\n",
       "        vertical-align: top;\n",
       "    }\n",
       "\n",
       "    .dataframe thead th {\n",
       "        text-align: right;\n",
       "    }\n",
       "</style>\n",
       "<table border=\"1\" class=\"dataframe\">\n",
       "  <thead>\n",
       "    <tr style=\"text-align: right;\">\n",
       "      <th></th>\n",
       "      <th>RowNumber</th>\n",
       "      <th>CustomerId</th>\n",
       "      <th>CreditScore</th>\n",
       "      <th>Age</th>\n",
       "      <th>Tenure</th>\n",
       "      <th>Balance</th>\n",
       "      <th>NumOfProducts</th>\n",
       "      <th>HasCrCard</th>\n",
       "      <th>IsActiveMember</th>\n",
       "      <th>EstimatedSalary</th>\n",
       "      <th>Exited</th>\n",
       "    </tr>\n",
       "  </thead>\n",
       "  <tbody>\n",
       "    <tr>\n",
       "      <th>count</th>\n",
       "      <td>10000.00000</td>\n",
       "      <td>1.000000e+04</td>\n",
       "      <td>10000.000000</td>\n",
       "      <td>10000.000000</td>\n",
       "      <td>10000.000000</td>\n",
       "      <td>10000.000000</td>\n",
       "      <td>10000.000000</td>\n",
       "      <td>10000.00000</td>\n",
       "      <td>10000.000000</td>\n",
       "      <td>10000.000000</td>\n",
       "      <td>10000.000000</td>\n",
       "    </tr>\n",
       "    <tr>\n",
       "      <th>mean</th>\n",
       "      <td>5000.50000</td>\n",
       "      <td>1.569094e+07</td>\n",
       "      <td>650.528800</td>\n",
       "      <td>38.921800</td>\n",
       "      <td>5.012800</td>\n",
       "      <td>76485.889288</td>\n",
       "      <td>1.530200</td>\n",
       "      <td>0.70550</td>\n",
       "      <td>0.515100</td>\n",
       "      <td>100090.239881</td>\n",
       "      <td>0.203700</td>\n",
       "    </tr>\n",
       "    <tr>\n",
       "      <th>std</th>\n",
       "      <td>2886.89568</td>\n",
       "      <td>7.193619e+04</td>\n",
       "      <td>96.653299</td>\n",
       "      <td>10.487806</td>\n",
       "      <td>2.892174</td>\n",
       "      <td>62397.405202</td>\n",
       "      <td>0.581654</td>\n",
       "      <td>0.45584</td>\n",
       "      <td>0.499797</td>\n",
       "      <td>57510.492818</td>\n",
       "      <td>0.402769</td>\n",
       "    </tr>\n",
       "    <tr>\n",
       "      <th>min</th>\n",
       "      <td>1.00000</td>\n",
       "      <td>1.556570e+07</td>\n",
       "      <td>350.000000</td>\n",
       "      <td>18.000000</td>\n",
       "      <td>0.000000</td>\n",
       "      <td>0.000000</td>\n",
       "      <td>1.000000</td>\n",
       "      <td>0.00000</td>\n",
       "      <td>0.000000</td>\n",
       "      <td>11.580000</td>\n",
       "      <td>0.000000</td>\n",
       "    </tr>\n",
       "    <tr>\n",
       "      <th>25%</th>\n",
       "      <td>2500.75000</td>\n",
       "      <td>1.562853e+07</td>\n",
       "      <td>584.000000</td>\n",
       "      <td>32.000000</td>\n",
       "      <td>3.000000</td>\n",
       "      <td>0.000000</td>\n",
       "      <td>1.000000</td>\n",
       "      <td>0.00000</td>\n",
       "      <td>0.000000</td>\n",
       "      <td>51002.110000</td>\n",
       "      <td>0.000000</td>\n",
       "    </tr>\n",
       "    <tr>\n",
       "      <th>50%</th>\n",
       "      <td>5000.50000</td>\n",
       "      <td>1.569074e+07</td>\n",
       "      <td>652.000000</td>\n",
       "      <td>37.000000</td>\n",
       "      <td>5.000000</td>\n",
       "      <td>97198.540000</td>\n",
       "      <td>1.000000</td>\n",
       "      <td>1.00000</td>\n",
       "      <td>1.000000</td>\n",
       "      <td>100193.915000</td>\n",
       "      <td>0.000000</td>\n",
       "    </tr>\n",
       "    <tr>\n",
       "      <th>75%</th>\n",
       "      <td>7500.25000</td>\n",
       "      <td>1.575323e+07</td>\n",
       "      <td>718.000000</td>\n",
       "      <td>44.000000</td>\n",
       "      <td>7.000000</td>\n",
       "      <td>127644.240000</td>\n",
       "      <td>2.000000</td>\n",
       "      <td>1.00000</td>\n",
       "      <td>1.000000</td>\n",
       "      <td>149388.247500</td>\n",
       "      <td>0.000000</td>\n",
       "    </tr>\n",
       "    <tr>\n",
       "      <th>max</th>\n",
       "      <td>10000.00000</td>\n",
       "      <td>1.581569e+07</td>\n",
       "      <td>850.000000</td>\n",
       "      <td>92.000000</td>\n",
       "      <td>10.000000</td>\n",
       "      <td>250898.090000</td>\n",
       "      <td>4.000000</td>\n",
       "      <td>1.00000</td>\n",
       "      <td>1.000000</td>\n",
       "      <td>199992.480000</td>\n",
       "      <td>1.000000</td>\n",
       "    </tr>\n",
       "  </tbody>\n",
       "</table>\n",
       "</div>"
      ],
      "text/plain": [
       "         RowNumber    CustomerId   CreditScore           Age        Tenure  \\\n",
       "count  10000.00000  1.000000e+04  10000.000000  10000.000000  10000.000000   \n",
       "mean   5000.50000   1.569094e+07  650.528800    38.921800     5.012800       \n",
       "std    2886.89568   7.193619e+04  96.653299     10.487806     2.892174       \n",
       "min    1.00000      1.556570e+07  350.000000    18.000000     0.000000       \n",
       "25%    2500.75000   1.562853e+07  584.000000    32.000000     3.000000       \n",
       "50%    5000.50000   1.569074e+07  652.000000    37.000000     5.000000       \n",
       "75%    7500.25000   1.575323e+07  718.000000    44.000000     7.000000       \n",
       "max    10000.00000  1.581569e+07  850.000000    92.000000     10.000000      \n",
       "\n",
       "             Balance  NumOfProducts    HasCrCard  IsActiveMember  \\\n",
       "count  10000.000000   10000.000000   10000.00000  10000.000000     \n",
       "mean   76485.889288   1.530200       0.70550      0.515100         \n",
       "std    62397.405202   0.581654       0.45584      0.499797         \n",
       "min    0.000000       1.000000       0.00000      0.000000         \n",
       "25%    0.000000       1.000000       0.00000      0.000000         \n",
       "50%    97198.540000   1.000000       1.00000      1.000000         \n",
       "75%    127644.240000  2.000000       1.00000      1.000000         \n",
       "max    250898.090000  4.000000       1.00000      1.000000         \n",
       "\n",
       "       EstimatedSalary        Exited  \n",
       "count  10000.000000     10000.000000  \n",
       "mean   100090.239881    0.203700      \n",
       "std    57510.492818     0.402769      \n",
       "min    11.580000        0.000000      \n",
       "25%    51002.110000     0.000000      \n",
       "50%    100193.915000    0.000000      \n",
       "75%    149388.247500    0.000000      \n",
       "max    199992.480000    1.000000      "
      ]
     },
     "execution_count": 82,
     "metadata": {},
     "output_type": "execute_result"
    }
   ],
   "source": [
    "df.describe()"
   ]
  },
  {
   "cell_type": "code",
   "execution_count": 83,
   "id": "189bc78a",
   "metadata": {},
   "outputs": [
    {
     "name": "stdout",
     "output_type": "stream",
     "text": [
      "<class 'pandas.core.frame.DataFrame'>\n",
      "RangeIndex: 10000 entries, 0 to 9999\n",
      "Data columns (total 14 columns):\n",
      " #   Column           Non-Null Count  Dtype  \n",
      "---  ------           --------------  -----  \n",
      " 0   RowNumber        10000 non-null  int64  \n",
      " 1   CustomerId       10000 non-null  int64  \n",
      " 2   Surname          10000 non-null  object \n",
      " 3   CreditScore      10000 non-null  int64  \n",
      " 4   Geography        10000 non-null  object \n",
      " 5   Gender           10000 non-null  object \n",
      " 6   Age              10000 non-null  int64  \n",
      " 7   Tenure           10000 non-null  int64  \n",
      " 8   Balance          10000 non-null  float64\n",
      " 9   NumOfProducts    10000 non-null  int64  \n",
      " 10  HasCrCard        10000 non-null  int64  \n",
      " 11  IsActiveMember   10000 non-null  int64  \n",
      " 12  EstimatedSalary  10000 non-null  float64\n",
      " 13  Exited           10000 non-null  int64  \n",
      "dtypes: float64(2), int64(9), object(3)\n",
      "memory usage: 1.1+ MB\n"
     ]
    }
   ],
   "source": [
    "df.info()"
   ]
  },
  {
   "cell_type": "code",
   "execution_count": 84,
   "id": "36b1ab6c",
   "metadata": {},
   "outputs": [
    {
     "data": {
      "text/plain": [
       "France     5014\n",
       "Germany    2509\n",
       "Spain      2477\n",
       "Name: Geography, dtype: int64"
      ]
     },
     "execution_count": 84,
     "metadata": {},
     "output_type": "execute_result"
    }
   ],
   "source": [
    "df['Geography'].value_counts()"
   ]
  },
  {
   "cell_type": "code",
   "execution_count": 85,
   "id": "0f4c02a3",
   "metadata": {},
   "outputs": [
    {
     "data": {
      "text/plain": [
       "Text(0.5, 1.0, 'Comparsion betweeen Countries and Customers')"
      ]
     },
     "execution_count": 85,
     "metadata": {},
     "output_type": "execute_result"
    },
    {
     "data": {
      "image/png": "[encoded data removed]",
      "text/plain": [
       "<Figure size 1000x600 with 1 Axes>"
      ]
     },
     "metadata": {},
     "output_type": "display_data"
    }
   ],
   "source": [
    "plt.figure(figsize=(10, 6))\n",
    "df['Geography'].value_counts().plot(kind='bar')\n",
    "plt.xlabel('Counrties Names')\n",
    "plt.ylabel('Numbers of Customers')\n",
    "plt.title(\"Comparsion betweeen Countries and Customers\")"
   ]
  },
  {
   "cell_type": "code",
   "execution_count": 86,
   "id": "a64be5f6",
   "metadata": {},
   "outputs": [
    {
     "data": {
      "text/plain": [
       "0    7963\n",
       "1    2037\n",
       "Name: Exited, dtype: int64"
      ]
     },
     "execution_count": 86,
     "metadata": {},
     "output_type": "execute_result"
    }
   ],
   "source": [
    "df['Exited'].value_counts()"
   ]
  },
  {
   "cell_type": "code",
   "execution_count": 12,
   "id": "974208ee",
   "metadata": {},
   "outputs": [
    {
     "data": {
      "text/plain": [
       "Text(0.5, 1.0, 'Comparsion betweeen Exited and Customers')"
      ]
     },
     "execution_count": 12,
     "metadata": {},
     "output_type": "execute_result"
    },
    {
     "data": {
      "image/png": "[encoded data removed]",
      "text/plain": [
       "<Figure size 1000x600 with 1 Axes>"
      ]
     },
     "metadata": {},
     "output_type": "display_data"
    }
   ],
   "source": [
    "plt.figure(figsize=(10, 6))\n",
    "df['Exited'].value_counts().plot(kind='bar')\n",
    "plt.xlabel('Exited or Not Exited')\n",
    "plt.ylabel('Numbers of Customers')\n",
    "plt.title(\"Comparsion betweeen Exited and Customers\")"
   ]
  },
  {
   "cell_type": "code",
   "execution_count": 87,
   "id": "fd57c4de",
   "metadata": {},
   "outputs": [
    {
     "data": {
      "text/plain": [
       "Male      5457\n",
       "Female    4543\n",
       "Name: Gender, dtype: int64"
      ]
     },
     "execution_count": 87,
     "metadata": {},
     "output_type": "execute_result"
    }
   ],
   "source": [
    "df['Gender'].value_counts()"
   ]
  },
  {
   "cell_type": "code",
   "execution_count": 14,
   "id": "51af586c",
   "metadata": {},
   "outputs": [
    {
     "data": {
      "text/plain": [
       "Text(0.5, 1.0, 'Comparsion betweeen Genders')"
      ]
     },
     "execution_count": 14,
     "metadata": {},
     "output_type": "execute_result"
    },
    {
     "data": {
      "image/png": "[encoded data removed]",
      "text/plain": [
       "<Figure size 1000x600 with 1 Axes>"
      ]
     },
     "metadata": {},
     "output_type": "display_data"
    }
   ],
   "source": [
    "plt.figure(figsize=(10, 6))\n",
    "df['Gender'].value_counts().plot(kind='bar')\n",
    "plt.xlabel('Gender')\n",
    "plt.ylabel('Numbers of Customers')\n",
    "plt.title(\"Comparsion betweeen Genders\")"
   ]
  },
  {
   "cell_type": "code",
   "execution_count": 88,
   "id": "d3097fcf",
   "metadata": {},
   "outputs": [],
   "source": [
    "df.drop(columns = ['RowNumber','CustomerId','Surname'], inplace= True )\n",
    "#Firstly Drops RowNumber,CustomerId,Surname these columns"
   ]
  },
  {
   "cell_type": "code",
   "execution_count": 35,
   "id": "a278cfb8",
   "metadata": {},
   "outputs": [
    {
     "data": {
      "image/png": "[encoded data removed]",
      "text/plain": [
       "<Figure size 1000x800 with 1 Axes>"
      ]
     },
     "metadata": {},
     "output_type": "display_data"
    }
   ],
   "source": [
    "labels = 'Exited', 'Active'\n",
    "sizes = [df.Exited[df['Exited']==1].count(), df.Exited[df['Exited']==0].count()]\n",
    "explode = (0, 0.1)\n",
    "fig1, ax1 = plt.subplots(figsize=(10, 8))\n",
    "ax1.pie(sizes, explode=explode, labels=labels, autopct='%1.1f%%',\n",
    "        shadow=True, startangle=90)\n",
    "ax1.axis('equal')\n",
    "plt.title(\"Proportion of customer churned and active\", size = 20)\n",
    "plt.show()"
   ]
  },
  {
   "cell_type": "code",
   "execution_count": 89,
   "id": "18470879",
   "metadata": {},
   "outputs": [
    {
     "data": {
      "text/plain": [
       "<Axes: xlabel='IsActiveMember', ylabel='count'>"
      ]
     },
     "execution_count": 89,
     "metadata": {},
     "output_type": "execute_result"
    },
    {
     "data": {
      "image/png": "[encoded data removed]",
      "text/plain": [
       "<Figure size 2000x1200 with 4 Axes>"
      ]
     },
     "metadata": {},
     "output_type": "display_data"
    }
   ],
   "source": [
    "fig, axarr = plt.subplots(2, 2, figsize=(20, 12))\n",
    "sns.countplot(x='Geography', hue = 'Exited',data = df, ax=axarr[0][0])\n",
    "sns.countplot(x='Gender', hue = 'Exited',data = df, ax=axarr[0][1])\n",
    "sns.countplot(x='HasCrCard', hue = 'Exited',data = df, ax=axarr[1][0])\n",
    "sns.countplot(x='IsActiveMember', hue = 'Exited',data = df, ax=axarr[1][1])"
   ]
  },
  {
   "cell_type": "code",
   "execution_count": 90,
   "id": "04a9323b",
   "metadata": {},
   "outputs": [
    {
     "data": {
      "text/plain": [
       "<Axes: xlabel='Exited', ylabel='EstimatedSalary'>"
      ]
     },
     "execution_count": 90,
     "metadata": {},
     "output_type": "execute_result"
    },
    {
     "data": {
      "image/png": "[encoded data removed]",
      "text/plain": [
       "<Figure size 1000x500 with 6 Axes>"
      ]
     },
     "metadata": {},
     "output_type": "display_data"
    }
   ],
   "source": [
    "fig, axarr = plt.subplots(3, 2, figsize=(10, 5))\n",
    "sns.boxplot(y='CreditScore',x = 'Exited', hue = 'Exited',data = df, ax=axarr[0][0])\n",
    "sns.boxplot(y='Age',x = 'Exited', hue = 'Exited',data = df , ax=axarr[0][1])\n",
    "sns.boxplot(y='Tenure',x = 'Exited', hue = 'Exited',data = df, ax=axarr[1][0])\n",
    "sns.boxplot(y='Balance',x = 'Exited', hue = 'Exited',data = df, ax=axarr[1][1])\n",
    "sns.boxplot(y='NumOfProducts',x = 'Exited', hue = 'Exited',data = df, ax=axarr[2][0])\n",
    "sns.boxplot(y='EstimatedSalary',x = 'Exited', hue = 'Exited',data = df, ax=axarr[2][1])"
   ]
  },
  {
   "cell_type": "code",
   "execution_count": 91,
   "id": "80ac9ad1",
   "metadata": {},
   "outputs": [
    {
     "data": {
      "text/html": [
       "<div>\n",
       "<style scoped>\n",
       "    .dataframe tbody tr th:only-of-type {\n",
       "        vertical-align: middle;\n",
       "    }\n",
       "\n",
       "    .dataframe tbody tr th {\n",
       "        vertical-align: top;\n",
       "    }\n",
       "\n",
       "    .dataframe thead th {\n",
       "        text-align: right;\n",
       "    }\n",
       "</style>\n",
       "<table border=\"1\" class=\"dataframe\">\n",
       "  <thead>\n",
       "    <tr style=\"text-align: right;\">\n",
       "      <th></th>\n",
       "      <th>CreditScore</th>\n",
       "      <th>Geography</th>\n",
       "      <th>Gender</th>\n",
       "      <th>Age</th>\n",
       "      <th>Tenure</th>\n",
       "      <th>Balance</th>\n",
       "      <th>NumOfProducts</th>\n",
       "      <th>HasCrCard</th>\n",
       "      <th>IsActiveMember</th>\n",
       "      <th>EstimatedSalary</th>\n",
       "      <th>Exited</th>\n",
       "    </tr>\n",
       "  </thead>\n",
       "  <tbody>\n",
       "    <tr>\n",
       "      <th>0</th>\n",
       "      <td>619</td>\n",
       "      <td>France</td>\n",
       "      <td>Female</td>\n",
       "      <td>42</td>\n",
       "      <td>2</td>\n",
       "      <td>0.00</td>\n",
       "      <td>1</td>\n",
       "      <td>1</td>\n",
       "      <td>1</td>\n",
       "      <td>101348.88</td>\n",
       "      <td>1</td>\n",
       "    </tr>\n",
       "    <tr>\n",
       "      <th>1</th>\n",
       "      <td>608</td>\n",
       "      <td>Spain</td>\n",
       "      <td>Female</td>\n",
       "      <td>41</td>\n",
       "      <td>1</td>\n",
       "      <td>83807.86</td>\n",
       "      <td>1</td>\n",
       "      <td>0</td>\n",
       "      <td>1</td>\n",
       "      <td>112542.58</td>\n",
       "      <td>0</td>\n",
       "    </tr>\n",
       "    <tr>\n",
       "      <th>2</th>\n",
       "      <td>502</td>\n",
       "      <td>France</td>\n",
       "      <td>Female</td>\n",
       "      <td>42</td>\n",
       "      <td>8</td>\n",
       "      <td>159660.80</td>\n",
       "      <td>3</td>\n",
       "      <td>1</td>\n",
       "      <td>0</td>\n",
       "      <td>113931.57</td>\n",
       "      <td>1</td>\n",
       "    </tr>\n",
       "    <tr>\n",
       "      <th>3</th>\n",
       "      <td>699</td>\n",
       "      <td>France</td>\n",
       "      <td>Female</td>\n",
       "      <td>39</td>\n",
       "      <td>1</td>\n",
       "      <td>0.00</td>\n",
       "      <td>2</td>\n",
       "      <td>0</td>\n",
       "      <td>0</td>\n",
       "      <td>93826.63</td>\n",
       "      <td>0</td>\n",
       "    </tr>\n",
       "    <tr>\n",
       "      <th>4</th>\n",
       "      <td>850</td>\n",
       "      <td>Spain</td>\n",
       "      <td>Female</td>\n",
       "      <td>43</td>\n",
       "      <td>2</td>\n",
       "      <td>125510.82</td>\n",
       "      <td>1</td>\n",
       "      <td>1</td>\n",
       "      <td>1</td>\n",
       "      <td>79084.10</td>\n",
       "      <td>0</td>\n",
       "    </tr>\n",
       "  </tbody>\n",
       "</table>\n",
       "</div>"
      ],
      "text/plain": [
       "   CreditScore Geography  Gender  Age  Tenure    Balance  NumOfProducts  \\\n",
       "0  619          France    Female  42   2       0.00       1               \n",
       "1  608          Spain     Female  41   1       83807.86   1               \n",
       "2  502          France    Female  42   8       159660.80  3               \n",
       "3  699          France    Female  39   1       0.00       2               \n",
       "4  850          Spain     Female  43   2       125510.82  1               \n",
       "\n",
       "   HasCrCard  IsActiveMember  EstimatedSalary  Exited  \n",
       "0  1          1               101348.88        1       \n",
       "1  0          1               112542.58        0       \n",
       "2  1          0               113931.57        1       \n",
       "3  0          0               93826.63         0       \n",
       "4  1          1               79084.10         0       "
      ]
     },
     "execution_count": 91,
     "metadata": {},
     "output_type": "execute_result"
    }
   ],
   "source": [
    "df.head()"
   ]
  },
  {
   "cell_type": "code",
   "execution_count": 92,
   "id": "7497c1be",
   "metadata": {},
   "outputs": [],
   "source": [
    "df= pd.get_dummies(df, columns= ['Geography', 'Gender'], drop_first=True)\n",
    "# Converting the categorical columns into numerical by using get_dummies function as ML,DL only works on numerical data"
   ]
  },
  {
   "cell_type": "code",
   "execution_count": 40,
   "id": "1bf350b6",
   "metadata": {},
   "outputs": [
    {
     "data": {
      "text/html": [
       "<div>\n",
       "<style scoped>\n",
       "    .dataframe tbody tr th:only-of-type {\n",
       "        vertical-align: middle;\n",
       "    }\n",
       "\n",
       "    .dataframe tbody tr th {\n",
       "        vertical-align: top;\n",
       "    }\n",
       "\n",
       "    .dataframe thead th {\n",
       "        text-align: right;\n",
       "    }\n",
       "</style>\n",
       "<table border=\"1\" class=\"dataframe\">\n",
       "  <thead>\n",
       "    <tr style=\"text-align: right;\">\n",
       "      <th></th>\n",
       "      <th>CreditScore</th>\n",
       "      <th>Age</th>\n",
       "      <th>Tenure</th>\n",
       "      <th>Balance</th>\n",
       "      <th>NumOfProducts</th>\n",
       "      <th>HasCrCard</th>\n",
       "      <th>IsActiveMember</th>\n",
       "      <th>EstimatedSalary</th>\n",
       "      <th>Exited</th>\n",
       "      <th>Geography_Germany</th>\n",
       "      <th>Geography_Spain</th>\n",
       "      <th>Gender_Male</th>\n",
       "    </tr>\n",
       "  </thead>\n",
       "  <tbody>\n",
       "    <tr>\n",
       "      <th>0</th>\n",
       "      <td>619</td>\n",
       "      <td>42</td>\n",
       "      <td>2</td>\n",
       "      <td>0.00</td>\n",
       "      <td>1</td>\n",
       "      <td>1</td>\n",
       "      <td>1</td>\n",
       "      <td>101348.88</td>\n",
       "      <td>1</td>\n",
       "      <td>0</td>\n",
       "      <td>0</td>\n",
       "      <td>0</td>\n",
       "    </tr>\n",
       "    <tr>\n",
       "      <th>1</th>\n",
       "      <td>608</td>\n",
       "      <td>41</td>\n",
       "      <td>1</td>\n",
       "      <td>83807.86</td>\n",
       "      <td>1</td>\n",
       "      <td>0</td>\n",
       "      <td>1</td>\n",
       "      <td>112542.58</td>\n",
       "      <td>0</td>\n",
       "      <td>0</td>\n",
       "      <td>1</td>\n",
       "      <td>0</td>\n",
       "    </tr>\n",
       "    <tr>\n",
       "      <th>2</th>\n",
       "      <td>502</td>\n",
       "      <td>42</td>\n",
       "      <td>8</td>\n",
       "      <td>159660.80</td>\n",
       "      <td>3</td>\n",
       "      <td>1</td>\n",
       "      <td>0</td>\n",
       "      <td>113931.57</td>\n",
       "      <td>1</td>\n",
       "      <td>0</td>\n",
       "      <td>0</td>\n",
       "      <td>0</td>\n",
       "    </tr>\n",
       "    <tr>\n",
       "      <th>3</th>\n",
       "      <td>699</td>\n",
       "      <td>39</td>\n",
       "      <td>1</td>\n",
       "      <td>0.00</td>\n",
       "      <td>2</td>\n",
       "      <td>0</td>\n",
       "      <td>0</td>\n",
       "      <td>93826.63</td>\n",
       "      <td>0</td>\n",
       "      <td>0</td>\n",
       "      <td>0</td>\n",
       "      <td>0</td>\n",
       "    </tr>\n",
       "    <tr>\n",
       "      <th>4</th>\n",
       "      <td>850</td>\n",
       "      <td>43</td>\n",
       "      <td>2</td>\n",
       "      <td>125510.82</td>\n",
       "      <td>1</td>\n",
       "      <td>1</td>\n",
       "      <td>1</td>\n",
       "      <td>79084.10</td>\n",
       "      <td>0</td>\n",
       "      <td>0</td>\n",
       "      <td>1</td>\n",
       "      <td>0</td>\n",
       "    </tr>\n",
       "  </tbody>\n",
       "</table>\n",
       "</div>"
      ],
      "text/plain": [
       "   CreditScore  Age  Tenure    Balance  NumOfProducts  HasCrCard  \\\n",
       "0          619   42       2       0.00              1          1   \n",
       "1          608   41       1   83807.86              1          0   \n",
       "2          502   42       8  159660.80              3          1   \n",
       "3          699   39       1       0.00              2          0   \n",
       "4          850   43       2  125510.82              1          1   \n",
       "\n",
       "   IsActiveMember  EstimatedSalary  Exited  Geography_Germany  \\\n",
       "0               1        101348.88       1                  0   \n",
       "1               1        112542.58       0                  0   \n",
       "2               0        113931.57       1                  0   \n",
       "3               0         93826.63       0                  0   \n",
       "4               1         79084.10       0                  0   \n",
       "\n",
       "   Geography_Spain  Gender_Male  \n",
       "0                0            0  \n",
       "1                1            0  \n",
       "2                0            0  \n",
       "3                0            0  \n",
       "4                1            0  "
      ]
     },
     "execution_count": 40,
     "metadata": {},
     "output_type": "execute_result"
    }
   ],
   "source": [
    "df.head()"
   ]
  },
  {
   "cell_type": "code",
   "execution_count": 93,
   "id": "feaedbd9",
   "metadata": {},
   "outputs": [],
   "source": [
    "X=df.drop(columns=['Exited'])\n",
    "y=df['Exited']"
   ]
  },
  {
   "cell_type": "code",
   "execution_count": 94,
   "id": "930b4988",
   "metadata": {},
   "outputs": [
    {
     "data": {
      "text/html": [
       "<div>\n",
       "<style scoped>\n",
       "    .dataframe tbody tr th:only-of-type {\n",
       "        vertical-align: middle;\n",
       "    }\n",
       "\n",
       "    .dataframe tbody tr th {\n",
       "        vertical-align: top;\n",
       "    }\n",
       "\n",
       "    .dataframe thead th {\n",
       "        text-align: right;\n",
       "    }\n",
       "</style>\n",
       "<table border=\"1\" class=\"dataframe\">\n",
       "  <thead>\n",
       "    <tr style=\"text-align: right;\">\n",
       "      <th></th>\n",
       "      <th>CreditScore</th>\n",
       "      <th>Age</th>\n",
       "      <th>Tenure</th>\n",
       "      <th>Balance</th>\n",
       "      <th>NumOfProducts</th>\n",
       "      <th>HasCrCard</th>\n",
       "      <th>IsActiveMember</th>\n",
       "      <th>EstimatedSalary</th>\n",
       "      <th>Exited</th>\n",
       "      <th>Geography_Germany</th>\n",
       "      <th>Geography_Spain</th>\n",
       "      <th>Gender_Male</th>\n",
       "    </tr>\n",
       "  </thead>\n",
       "  <tbody>\n",
       "    <tr>\n",
       "      <th>0</th>\n",
       "      <td>619</td>\n",
       "      <td>42</td>\n",
       "      <td>2</td>\n",
       "      <td>0.00</td>\n",
       "      <td>1</td>\n",
       "      <td>1</td>\n",
       "      <td>1</td>\n",
       "      <td>101348.88</td>\n",
       "      <td>1</td>\n",
       "      <td>0</td>\n",
       "      <td>0</td>\n",
       "      <td>0</td>\n",
       "    </tr>\n",
       "    <tr>\n",
       "      <th>1</th>\n",
       "      <td>608</td>\n",
       "      <td>41</td>\n",
       "      <td>1</td>\n",
       "      <td>83807.86</td>\n",
       "      <td>1</td>\n",
       "      <td>0</td>\n",
       "      <td>1</td>\n",
       "      <td>112542.58</td>\n",
       "      <td>0</td>\n",
       "      <td>0</td>\n",
       "      <td>1</td>\n",
       "      <td>0</td>\n",
       "    </tr>\n",
       "    <tr>\n",
       "      <th>2</th>\n",
       "      <td>502</td>\n",
       "      <td>42</td>\n",
       "      <td>8</td>\n",
       "      <td>159660.80</td>\n",
       "      <td>3</td>\n",
       "      <td>1</td>\n",
       "      <td>0</td>\n",
       "      <td>113931.57</td>\n",
       "      <td>1</td>\n",
       "      <td>0</td>\n",
       "      <td>0</td>\n",
       "      <td>0</td>\n",
       "    </tr>\n",
       "    <tr>\n",
       "      <th>3</th>\n",
       "      <td>699</td>\n",
       "      <td>39</td>\n",
       "      <td>1</td>\n",
       "      <td>0.00</td>\n",
       "      <td>2</td>\n",
       "      <td>0</td>\n",
       "      <td>0</td>\n",
       "      <td>93826.63</td>\n",
       "      <td>0</td>\n",
       "      <td>0</td>\n",
       "      <td>0</td>\n",
       "      <td>0</td>\n",
       "    </tr>\n",
       "    <tr>\n",
       "      <th>4</th>\n",
       "      <td>850</td>\n",
       "      <td>43</td>\n",
       "      <td>2</td>\n",
       "      <td>125510.82</td>\n",
       "      <td>1</td>\n",
       "      <td>1</td>\n",
       "      <td>1</td>\n",
       "      <td>79084.10</td>\n",
       "      <td>0</td>\n",
       "      <td>0</td>\n",
       "      <td>1</td>\n",
       "      <td>0</td>\n",
       "    </tr>\n",
       "  </tbody>\n",
       "</table>\n",
       "</div>"
      ],
      "text/plain": [
       "   CreditScore  Age  Tenure    Balance  NumOfProducts  HasCrCard  \\\n",
       "0  619          42   2       0.00       1              1           \n",
       "1  608          41   1       83807.86   1              0           \n",
       "2  502          42   8       159660.80  3              1           \n",
       "3  699          39   1       0.00       2              0           \n",
       "4  850          43   2       125510.82  1              1           \n",
       "\n",
       "   IsActiveMember  EstimatedSalary  Exited  Geography_Germany  \\\n",
       "0  1               101348.88        1       0                   \n",
       "1  1               112542.58        0       0                   \n",
       "2  0               113931.57        1       0                   \n",
       "3  0               93826.63         0       0                   \n",
       "4  1               79084.10         0       0                   \n",
       "\n",
       "   Geography_Spain  Gender_Male  \n",
       "0  0                0            \n",
       "1  1                0            \n",
       "2  0                0            \n",
       "3  0                0            \n",
       "4  1                0            "
      ]
     },
     "execution_count": 94,
     "metadata": {},
     "output_type": "execute_result"
    }
   ],
   "source": [
    "df.head()"
   ]
  },
  {
   "cell_type": "code",
   "execution_count": 95,
   "id": "39708f96",
   "metadata": {},
   "outputs": [],
   "source": [
    "# Data Preprocessing¶\n",
    "from sklearn.preprocessing import LabelEncoder\n",
    "le=LabelEncoder()"
   ]
  },
  {
   "cell_type": "code",
   "execution_count": 96,
   "id": "fc5e48c9",
   "metadata": {},
   "outputs": [
    {
     "name": "stderr",
     "output_type": "stream",
     "text": [
      "C:\\Users\\Mahan\\AppData\\Local\\Temp\\ipykernel_6756\\1696928730.py:2: DeprecationWarning: Converting `np.inexact` or `np.floating` to a dtype is deprecated. The current result is `float64` which is not strictly correct.\n",
      "  if df[column].dtype==np.number:\n",
      "C:\\Users\\Mahan\\AppData\\Local\\Temp\\ipykernel_6756\\1696928730.py:2: DeprecationWarning: Converting `np.inexact` or `np.floating` to a dtype is deprecated. The current result is `float64` which is not strictly correct.\n",
      "  if df[column].dtype==np.number:\n",
      "C:\\Users\\Mahan\\AppData\\Local\\Temp\\ipykernel_6756\\1696928730.py:2: DeprecationWarning: Converting `np.inexact` or `np.floating` to a dtype is deprecated. The current result is `float64` which is not strictly correct.\n",
      "  if df[column].dtype==np.number:\n",
      "C:\\Users\\Mahan\\AppData\\Local\\Temp\\ipykernel_6756\\1696928730.py:2: DeprecationWarning: Converting `np.inexact` or `np.floating` to a dtype is deprecated. The current result is `float64` which is not strictly correct.\n",
      "  if df[column].dtype==np.number:\n",
      "C:\\Users\\Mahan\\AppData\\Local\\Temp\\ipykernel_6756\\1696928730.py:2: DeprecationWarning: Converting `np.inexact` or `np.floating` to a dtype is deprecated. The current result is `float64` which is not strictly correct.\n",
      "  if df[column].dtype==np.number:\n",
      "C:\\Users\\Mahan\\AppData\\Local\\Temp\\ipykernel_6756\\1696928730.py:2: DeprecationWarning: Converting `np.inexact` or `np.floating` to a dtype is deprecated. The current result is `float64` which is not strictly correct.\n",
      "  if df[column].dtype==np.number:\n",
      "C:\\Users\\Mahan\\AppData\\Local\\Temp\\ipykernel_6756\\1696928730.py:2: DeprecationWarning: Converting `np.inexact` or `np.floating` to a dtype is deprecated. The current result is `float64` which is not strictly correct.\n",
      "  if df[column].dtype==np.number:\n",
      "C:\\Users\\Mahan\\AppData\\Local\\Temp\\ipykernel_6756\\1696928730.py:2: DeprecationWarning: Converting `np.inexact` or `np.floating` to a dtype is deprecated. The current result is `float64` which is not strictly correct.\n",
      "  if df[column].dtype==np.number:\n",
      "C:\\Users\\Mahan\\AppData\\Local\\Temp\\ipykernel_6756\\1696928730.py:2: DeprecationWarning: Converting `np.inexact` or `np.floating` to a dtype is deprecated. The current result is `float64` which is not strictly correct.\n",
      "  if df[column].dtype==np.number:\n",
      "C:\\Users\\Mahan\\AppData\\Local\\Temp\\ipykernel_6756\\1696928730.py:2: DeprecationWarning: Converting `np.inexact` or `np.floating` to a dtype is deprecated. The current result is `float64` which is not strictly correct.\n",
      "  if df[column].dtype==np.number:\n"
     ]
    }
   ],
   "source": [
    "for column in df.columns:\n",
    "    if df[column].dtype==np.number:\n",
    "        continue\n",
    "    df[column]=le.fit_transform(df[column])"
   ]
  },
  {
   "cell_type": "code",
   "execution_count": 97,
   "id": "c0c09a67",
   "metadata": {},
   "outputs": [
    {
     "data": {
      "text/html": [
       "<div>\n",
       "<style scoped>\n",
       "    .dataframe tbody tr th:only-of-type {\n",
       "        vertical-align: middle;\n",
       "    }\n",
       "\n",
       "    .dataframe tbody tr th {\n",
       "        vertical-align: top;\n",
       "    }\n",
       "\n",
       "    .dataframe thead th {\n",
       "        text-align: right;\n",
       "    }\n",
       "</style>\n",
       "<table border=\"1\" class=\"dataframe\">\n",
       "  <thead>\n",
       "    <tr style=\"text-align: right;\">\n",
       "      <th></th>\n",
       "      <th>CreditScore</th>\n",
       "      <th>Age</th>\n",
       "      <th>Tenure</th>\n",
       "      <th>Balance</th>\n",
       "      <th>NumOfProducts</th>\n",
       "      <th>HasCrCard</th>\n",
       "      <th>IsActiveMember</th>\n",
       "      <th>EstimatedSalary</th>\n",
       "      <th>Exited</th>\n",
       "      <th>Geography_Germany</th>\n",
       "      <th>Geography_Spain</th>\n",
       "      <th>Gender_Male</th>\n",
       "    </tr>\n",
       "  </thead>\n",
       "  <tbody>\n",
       "    <tr>\n",
       "      <th>0</th>\n",
       "      <td>228</td>\n",
       "      <td>24</td>\n",
       "      <td>2</td>\n",
       "      <td>0.00</td>\n",
       "      <td>0</td>\n",
       "      <td>1</td>\n",
       "      <td>1</td>\n",
       "      <td>101348.88</td>\n",
       "      <td>1</td>\n",
       "      <td>0</td>\n",
       "      <td>0</td>\n",
       "      <td>0</td>\n",
       "    </tr>\n",
       "    <tr>\n",
       "      <th>1</th>\n",
       "      <td>217</td>\n",
       "      <td>23</td>\n",
       "      <td>1</td>\n",
       "      <td>83807.86</td>\n",
       "      <td>0</td>\n",
       "      <td>0</td>\n",
       "      <td>1</td>\n",
       "      <td>112542.58</td>\n",
       "      <td>0</td>\n",
       "      <td>0</td>\n",
       "      <td>1</td>\n",
       "      <td>0</td>\n",
       "    </tr>\n",
       "    <tr>\n",
       "      <th>2</th>\n",
       "      <td>111</td>\n",
       "      <td>24</td>\n",
       "      <td>8</td>\n",
       "      <td>159660.80</td>\n",
       "      <td>2</td>\n",
       "      <td>1</td>\n",
       "      <td>0</td>\n",
       "      <td>113931.57</td>\n",
       "      <td>1</td>\n",
       "      <td>0</td>\n",
       "      <td>0</td>\n",
       "      <td>0</td>\n",
       "    </tr>\n",
       "    <tr>\n",
       "      <th>3</th>\n",
       "      <td>308</td>\n",
       "      <td>21</td>\n",
       "      <td>1</td>\n",
       "      <td>0.00</td>\n",
       "      <td>1</td>\n",
       "      <td>0</td>\n",
       "      <td>0</td>\n",
       "      <td>93826.63</td>\n",
       "      <td>0</td>\n",
       "      <td>0</td>\n",
       "      <td>0</td>\n",
       "      <td>0</td>\n",
       "    </tr>\n",
       "    <tr>\n",
       "      <th>4</th>\n",
       "      <td>459</td>\n",
       "      <td>25</td>\n",
       "      <td>2</td>\n",
       "      <td>125510.82</td>\n",
       "      <td>0</td>\n",
       "      <td>1</td>\n",
       "      <td>1</td>\n",
       "      <td>79084.10</td>\n",
       "      <td>0</td>\n",
       "      <td>0</td>\n",
       "      <td>1</td>\n",
       "      <td>0</td>\n",
       "    </tr>\n",
       "    <tr>\n",
       "      <th>...</th>\n",
       "      <td>...</td>\n",
       "      <td>...</td>\n",
       "      <td>...</td>\n",
       "      <td>...</td>\n",
       "      <td>...</td>\n",
       "      <td>...</td>\n",
       "      <td>...</td>\n",
       "      <td>...</td>\n",
       "      <td>...</td>\n",
       "      <td>...</td>\n",
       "      <td>...</td>\n",
       "      <td>...</td>\n",
       "    </tr>\n",
       "    <tr>\n",
       "      <th>9995</th>\n",
       "      <td>380</td>\n",
       "      <td>21</td>\n",
       "      <td>5</td>\n",
       "      <td>0.00</td>\n",
       "      <td>1</td>\n",
       "      <td>1</td>\n",
       "      <td>0</td>\n",
       "      <td>96270.64</td>\n",
       "      <td>0</td>\n",
       "      <td>0</td>\n",
       "      <td>0</td>\n",
       "      <td>1</td>\n",
       "    </tr>\n",
       "    <tr>\n",
       "      <th>9996</th>\n",
       "      <td>125</td>\n",
       "      <td>17</td>\n",
       "      <td>10</td>\n",
       "      <td>57369.61</td>\n",
       "      <td>0</td>\n",
       "      <td>1</td>\n",
       "      <td>1</td>\n",
       "      <td>101699.77</td>\n",
       "      <td>0</td>\n",
       "      <td>0</td>\n",
       "      <td>0</td>\n",
       "      <td>1</td>\n",
       "    </tr>\n",
       "    <tr>\n",
       "      <th>9997</th>\n",
       "      <td>318</td>\n",
       "      <td>18</td>\n",
       "      <td>7</td>\n",
       "      <td>0.00</td>\n",
       "      <td>0</td>\n",
       "      <td>0</td>\n",
       "      <td>1</td>\n",
       "      <td>42085.58</td>\n",
       "      <td>1</td>\n",
       "      <td>0</td>\n",
       "      <td>0</td>\n",
       "      <td>0</td>\n",
       "    </tr>\n",
       "    <tr>\n",
       "      <th>9998</th>\n",
       "      <td>381</td>\n",
       "      <td>24</td>\n",
       "      <td>3</td>\n",
       "      <td>75075.31</td>\n",
       "      <td>1</td>\n",
       "      <td>1</td>\n",
       "      <td>0</td>\n",
       "      <td>92888.52</td>\n",
       "      <td>1</td>\n",
       "      <td>1</td>\n",
       "      <td>0</td>\n",
       "      <td>1</td>\n",
       "    </tr>\n",
       "    <tr>\n",
       "      <th>9999</th>\n",
       "      <td>401</td>\n",
       "      <td>10</td>\n",
       "      <td>4</td>\n",
       "      <td>130142.79</td>\n",
       "      <td>0</td>\n",
       "      <td>1</td>\n",
       "      <td>0</td>\n",
       "      <td>38190.78</td>\n",
       "      <td>0</td>\n",
       "      <td>0</td>\n",
       "      <td>0</td>\n",
       "      <td>0</td>\n",
       "    </tr>\n",
       "  </tbody>\n",
       "</table>\n",
       "<p>10000 rows × 12 columns</p>\n",
       "</div>"
      ],
      "text/plain": [
       "      CreditScore  Age  Tenure    Balance  NumOfProducts  HasCrCard  \\\n",
       "0     228          24   2       0.00       0              1           \n",
       "1     217          23   1       83807.86   0              0           \n",
       "2     111          24   8       159660.80  2              1           \n",
       "3     308          21   1       0.00       1              0           \n",
       "4     459          25   2       125510.82  0              1           \n",
       "...   ...          ..  ..             ... ..             ..           \n",
       "9995  380          21   5       0.00       1              1           \n",
       "9996  125          17   10      57369.61   0              1           \n",
       "9997  318          18   7       0.00       0              0           \n",
       "9998  381          24   3       75075.31   1              1           \n",
       "9999  401          10   4       130142.79  0              1           \n",
       "\n",
       "      IsActiveMember  EstimatedSalary  Exited  Geography_Germany  \\\n",
       "0     1               101348.88        1       0                   \n",
       "1     1               112542.58        0       0                   \n",
       "2     0               113931.57        1       0                   \n",
       "3     0               93826.63         0       0                   \n",
       "4     1               79084.10         0       0                   \n",
       "...  ..                    ...        ..      ..                   \n",
       "9995  0               96270.64         0       0                   \n",
       "9996  1               101699.77        0       0                   \n",
       "9997  1               42085.58         1       0                   \n",
       "9998  0               92888.52         1       1                   \n",
       "9999  0               38190.78         0       0                   \n",
       "\n",
       "      Geography_Spain  Gender_Male  \n",
       "0     0                0            \n",
       "1     1                0            \n",
       "2     0                0            \n",
       "3     0                0            \n",
       "4     1                0            \n",
       "...  ..               ..            \n",
       "9995  0                1            \n",
       "9996  0                1            \n",
       "9997  0                0            \n",
       "9998  0                1            \n",
       "9999  0                0            \n",
       "\n",
       "[10000 rows x 12 columns]"
      ]
     },
     "execution_count": 97,
     "metadata": {},
     "output_type": "execute_result"
    }
   ],
   "source": [
    "df"
   ]
  },
  {
   "cell_type": "code",
   "execution_count": 98,
   "id": "e174d1b3",
   "metadata": {},
   "outputs": [],
   "source": [
    "# Now Split the dataset into train test split using sklearn lib\n",
    "from sklearn.model_selection import train_test_split"
   ]
  },
  {
   "cell_type": "code",
   "execution_count": 99,
   "id": "5d62c585",
   "metadata": {},
   "outputs": [],
   "source": [
    "X_train, X_test, y_train, y_test = train_test_split(X,y, test_size= 0.25, random_state=3)"
   ]
  },
  {
   "cell_type": "code",
   "execution_count": 100,
   "id": "07e24292",
   "metadata": {},
   "outputs": [],
   "source": [
    "# Scalling the dataset (Feature Scaling)\n",
    "from sklearn.preprocessing import StandardScaler"
   ]
  },
  {
   "cell_type": "code",
   "execution_count": 101,
   "id": "fc794bd1",
   "metadata": {},
   "outputs": [],
   "source": [
    "sc=StandardScaler()\n",
    "X_train=sc.fit_transform(X_train)\n",
    "X_test=sc.transform(X_test)"
   ]
  },
  {
   "cell_type": "code",
   "execution_count": 102,
   "id": "13dde551",
   "metadata": {},
   "outputs": [],
   "source": [
    "# Building our Model\n",
    "# In this part, we model our Artificial Neural Network model.\n",
    "\n",
    "import tensorflow\n",
    "from tensorflow import keras\n",
    "from tensorflow.keras import Sequential # used for init our ANN model\n",
    "from tensorflow.keras.layers import Dense # used for different layer structure"
   ]
  },
  {
   "cell_type": "code",
   "execution_count": 103,
   "id": "9a5c2e87",
   "metadata": {},
   "outputs": [],
   "source": [
    "# Adding the input layer and first hidden layer\n",
    "model=Sequential([\n",
    "    Dense(6,input_dim=11,activation='relu'),\n",
    "    Dense(6,activation='relu'),\n",
    "    Dense(1,activation='sigmoid')\n",
    "])"
   ]
  },
  {
   "cell_type": "code",
   "execution_count": 104,
   "id": "9733e25b",
   "metadata": {},
   "outputs": [
    {
     "name": "stdout",
     "output_type": "stream",
     "text": [
      "Model: \"sequential_1\"\n",
      "_________________________________________________________________\n",
      " Layer (type)                Output Shape              Param #   \n",
      "=================================================================\n",
      " dense_3 (Dense)             (None, 6)                 72        \n",
      "                                                                 \n",
      " dense_4 (Dense)             (None, 6)                 42        \n",
      "                                                                 \n",
      " dense_5 (Dense)             (None, 1)                 7         \n",
      "                                                                 \n",
      "=================================================================\n",
      "Total params: 121 (484.00 Byte)\n",
      "Trainable params: 121 (484.00 Byte)\n",
      "Non-trainable params: 0 (0.00 Byte)\n",
      "_________________________________________________________________\n"
     ]
    }
   ],
   "source": [
    "model.summary()"
   ]
  },
  {
   "cell_type": "code",
   "execution_count": 105,
   "id": "db563796",
   "metadata": {},
   "outputs": [],
   "source": [
    "model.compile(optimizer='adam',\n",
    "             loss='binary_crossentropy',\n",
    "             metrics=['accuracy'])"
   ]
  },
  {
   "cell_type": "code",
   "execution_count": 57,
   "id": "5fddb83a",
   "metadata": {},
   "outputs": [
    {
     "name": "stdout",
     "output_type": "stream",
     "text": [
      "Epoch 1/100\n",
      "563/563 [==============================] - 1s 1ms/step - loss: 0.5561 - accuracy: 0.7662 - val_loss: 0.4855 - val_accuracy: 0.8027\n",
      "Epoch 2/100\n",
      "563/563 [==============================] - 1s 1ms/step - loss: 0.4641 - accuracy: 0.7964 - val_loss: 0.4343 - val_accuracy: 0.8064\n",
      "Epoch 3/100\n",
      "563/563 [==============================] - 1s 1ms/step - loss: 0.4236 - accuracy: 0.8112 - val_loss: 0.4101 - val_accuracy: 0.8123\n",
      "Epoch 4/100\n",
      "563/563 [==============================] - 1s 1ms/step - loss: 0.3977 - accuracy: 0.8256 - val_loss: 0.3846 - val_accuracy: 0.8336\n",
      "Epoch 5/100\n",
      "563/563 [==============================] - 1s 1ms/step - loss: 0.3746 - accuracy: 0.8380 - val_loss: 0.3686 - val_accuracy: 0.8453\n",
      "Epoch 6/100\n",
      "563/563 [==============================] - 1s 1ms/step - loss: 0.3626 - accuracy: 0.8412 - val_loss: 0.3620 - val_accuracy: 0.8480\n",
      "Epoch 7/100\n",
      "563/563 [==============================] - 1s 1ms/step - loss: 0.3559 - accuracy: 0.8476 - val_loss: 0.3590 - val_accuracy: 0.8475\n",
      "Epoch 8/100\n",
      "563/563 [==============================] - 1s 1ms/step - loss: 0.3520 - accuracy: 0.8505 - val_loss: 0.3564 - val_accuracy: 0.8496\n",
      "Epoch 9/100\n",
      "563/563 [==============================] - 1s 1ms/step - loss: 0.3487 - accuracy: 0.8526 - val_loss: 0.3561 - val_accuracy: 0.8507\n",
      "Epoch 10/100\n",
      "563/563 [==============================] - 1s 1ms/step - loss: 0.3465 - accuracy: 0.8553 - val_loss: 0.3534 - val_accuracy: 0.8533\n",
      "Epoch 11/100\n",
      "563/563 [==============================] - 1s 1ms/step - loss: 0.3444 - accuracy: 0.8558 - val_loss: 0.3534 - val_accuracy: 0.8528\n",
      "Epoch 12/100\n",
      "563/563 [==============================] - 1s 1ms/step - loss: 0.3424 - accuracy: 0.8564 - val_loss: 0.3535 - val_accuracy: 0.8549\n",
      "Epoch 13/100\n",
      "563/563 [==============================] - 1s 1ms/step - loss: 0.3404 - accuracy: 0.8569 - val_loss: 0.3537 - val_accuracy: 0.8560\n",
      "Epoch 14/100\n",
      "563/563 [==============================] - 1s 1ms/step - loss: 0.3403 - accuracy: 0.8592 - val_loss: 0.3535 - val_accuracy: 0.8544\n",
      "Epoch 15/100\n",
      "563/563 [==============================] - 1s 1ms/step - loss: 0.3389 - accuracy: 0.8585 - val_loss: 0.3533 - val_accuracy: 0.8528\n",
      "Epoch 16/100\n",
      "563/563 [==============================] - 1s 1ms/step - loss: 0.3379 - accuracy: 0.8604 - val_loss: 0.3538 - val_accuracy: 0.8539\n",
      "Epoch 17/100\n",
      "563/563 [==============================] - 1s 1ms/step - loss: 0.3378 - accuracy: 0.8601 - val_loss: 0.3542 - val_accuracy: 0.8528\n",
      "Epoch 18/100\n",
      "563/563 [==============================] - 1s 1ms/step - loss: 0.3375 - accuracy: 0.8604 - val_loss: 0.3538 - val_accuracy: 0.8539\n",
      "Epoch 19/100\n",
      "563/563 [==============================] - 1s 1ms/step - loss: 0.3369 - accuracy: 0.8590 - val_loss: 0.3535 - val_accuracy: 0.8544\n",
      "Epoch 20/100\n",
      "563/563 [==============================] - 1s 1ms/step - loss: 0.3360 - accuracy: 0.8612 - val_loss: 0.3540 - val_accuracy: 0.8523\n",
      "Epoch 21/100\n",
      "563/563 [==============================] - 1s 1ms/step - loss: 0.3360 - accuracy: 0.8603 - val_loss: 0.3553 - val_accuracy: 0.8517\n",
      "Epoch 22/100\n",
      "563/563 [==============================] - 1s 1ms/step - loss: 0.3356 - accuracy: 0.8608 - val_loss: 0.3547 - val_accuracy: 0.8555\n",
      "Epoch 23/100\n",
      "563/563 [==============================] - 1s 1ms/step - loss: 0.3350 - accuracy: 0.8628 - val_loss: 0.3529 - val_accuracy: 0.8533\n",
      "Epoch 24/100\n",
      "563/563 [==============================] - 1s 1ms/step - loss: 0.3350 - accuracy: 0.8617 - val_loss: 0.3521 - val_accuracy: 0.8565\n",
      "Epoch 25/100\n",
      "563/563 [==============================] - 1s 1ms/step - loss: 0.3342 - accuracy: 0.8606 - val_loss: 0.3536 - val_accuracy: 0.8517\n",
      "Epoch 26/100\n",
      "563/563 [==============================] - 1s 1ms/step - loss: 0.3348 - accuracy: 0.8613 - val_loss: 0.3521 - val_accuracy: 0.8533\n",
      "Epoch 27/100\n",
      "563/563 [==============================] - 1s 1ms/step - loss: 0.3340 - accuracy: 0.8617 - val_loss: 0.3547 - val_accuracy: 0.8571\n",
      "Epoch 28/100\n",
      "563/563 [==============================] - 1s 1ms/step - loss: 0.3340 - accuracy: 0.8626 - val_loss: 0.3523 - val_accuracy: 0.8528\n",
      "Epoch 29/100\n",
      "563/563 [==============================] - 1s 1ms/step - loss: 0.3328 - accuracy: 0.8635 - val_loss: 0.3562 - val_accuracy: 0.8512\n",
      "Epoch 30/100\n",
      "563/563 [==============================] - 1s 1ms/step - loss: 0.3342 - accuracy: 0.8649 - val_loss: 0.3522 - val_accuracy: 0.8507\n",
      "Epoch 31/100\n",
      "563/563 [==============================] - 1s 1ms/step - loss: 0.3330 - accuracy: 0.8628 - val_loss: 0.3525 - val_accuracy: 0.8544\n",
      "Epoch 32/100\n",
      "563/563 [==============================] - 1s 1ms/step - loss: 0.3338 - accuracy: 0.8636 - val_loss: 0.3515 - val_accuracy: 0.8523\n",
      "Epoch 33/100\n",
      "563/563 [==============================] - 1s 1ms/step - loss: 0.3331 - accuracy: 0.8654 - val_loss: 0.3526 - val_accuracy: 0.8533\n",
      "Epoch 34/100\n",
      "563/563 [==============================] - 1s 1ms/step - loss: 0.3328 - accuracy: 0.8635 - val_loss: 0.3531 - val_accuracy: 0.8533\n",
      "Epoch 35/100\n",
      "563/563 [==============================] - 1s 1ms/step - loss: 0.3331 - accuracy: 0.8644 - val_loss: 0.3530 - val_accuracy: 0.8533\n",
      "Epoch 36/100\n",
      "563/563 [==============================] - 1s 1ms/step - loss: 0.3323 - accuracy: 0.8631 - val_loss: 0.3546 - val_accuracy: 0.8539\n",
      "Epoch 37/100\n",
      "563/563 [==============================] - 1s 1ms/step - loss: 0.3322 - accuracy: 0.8638 - val_loss: 0.3536 - val_accuracy: 0.8533\n",
      "Epoch 38/100\n",
      "563/563 [==============================] - 1s 983us/step - loss: 0.3321 - accuracy: 0.8640 - val_loss: 0.3533 - val_accuracy: 0.8528\n",
      "Epoch 39/100\n",
      "563/563 [==============================] - 1s 940us/step - loss: 0.3321 - accuracy: 0.8644 - val_loss: 0.3531 - val_accuracy: 0.8539\n",
      "Epoch 40/100\n",
      "563/563 [==============================] - 1s 1ms/step - loss: 0.3314 - accuracy: 0.8635 - val_loss: 0.3526 - val_accuracy: 0.8539\n",
      "Epoch 41/100\n",
      "563/563 [==============================] - 1s 1ms/step - loss: 0.3317 - accuracy: 0.8644 - val_loss: 0.3531 - val_accuracy: 0.8549\n",
      "Epoch 42/100\n",
      "563/563 [==============================] - 1s 965us/step - loss: 0.3313 - accuracy: 0.8654 - val_loss: 0.3522 - val_accuracy: 0.8571\n",
      "Epoch 43/100\n",
      "563/563 [==============================] - 1s 1ms/step - loss: 0.3311 - accuracy: 0.8654 - val_loss: 0.3533 - val_accuracy: 0.8555\n",
      "Epoch 44/100\n",
      "563/563 [==============================] - 1s 1ms/step - loss: 0.3309 - accuracy: 0.8658 - val_loss: 0.3541 - val_accuracy: 0.8539\n",
      "Epoch 45/100\n",
      "563/563 [==============================] - 1s 1ms/step - loss: 0.3311 - accuracy: 0.8649 - val_loss: 0.3528 - val_accuracy: 0.8544\n",
      "Epoch 46/100\n",
      "563/563 [==============================] - 1s 1ms/step - loss: 0.3310 - accuracy: 0.8636 - val_loss: 0.3539 - val_accuracy: 0.8544\n",
      "Epoch 47/100\n",
      "563/563 [==============================] - 1s 980us/step - loss: 0.3311 - accuracy: 0.8633 - val_loss: 0.3531 - val_accuracy: 0.8565\n",
      "Epoch 48/100\n",
      "563/563 [==============================] - 1s 1ms/step - loss: 0.3307 - accuracy: 0.8665 - val_loss: 0.3531 - val_accuracy: 0.8560\n",
      "Epoch 49/100\n",
      "563/563 [==============================] - 1s 1ms/step - loss: 0.3302 - accuracy: 0.8670 - val_loss: 0.3549 - val_accuracy: 0.8528\n",
      "Epoch 50/100\n",
      "563/563 [==============================] - 1s 1ms/step - loss: 0.3305 - accuracy: 0.8652 - val_loss: 0.3544 - val_accuracy: 0.8533\n",
      "Epoch 51/100\n",
      "563/563 [==============================] - 1s 1ms/step - loss: 0.3304 - accuracy: 0.8660 - val_loss: 0.3528 - val_accuracy: 0.8533\n",
      "Epoch 52/100\n",
      "563/563 [==============================] - 1s 1ms/step - loss: 0.3300 - accuracy: 0.8647 - val_loss: 0.3517 - val_accuracy: 0.8576\n",
      "Epoch 53/100\n",
      "563/563 [==============================] - 1s 985us/step - loss: 0.3295 - accuracy: 0.8661 - val_loss: 0.3552 - val_accuracy: 0.8560\n",
      "Epoch 54/100\n",
      "563/563 [==============================] - 1s 994us/step - loss: 0.3304 - accuracy: 0.8649 - val_loss: 0.3523 - val_accuracy: 0.8555\n",
      "Epoch 55/100\n",
      "563/563 [==============================] - 1s 994us/step - loss: 0.3300 - accuracy: 0.8661 - val_loss: 0.3518 - val_accuracy: 0.8560\n",
      "Epoch 56/100\n",
      "563/563 [==============================] - 1s 1ms/step - loss: 0.3300 - accuracy: 0.8676 - val_loss: 0.3524 - val_accuracy: 0.8565\n",
      "Epoch 57/100\n",
      "563/563 [==============================] - 1s 1ms/step - loss: 0.3296 - accuracy: 0.8681 - val_loss: 0.3529 - val_accuracy: 0.8533\n"
     ]
    },
    {
     "name": "stdout",
     "output_type": "stream",
     "text": [
      "Epoch 58/100\n",
      "563/563 [==============================] - 1s 1ms/step - loss: 0.3300 - accuracy: 0.8658 - val_loss: 0.3523 - val_accuracy: 0.8549\n",
      "Epoch 59/100\n",
      "563/563 [==============================] - 1s 1ms/step - loss: 0.3299 - accuracy: 0.8661 - val_loss: 0.3546 - val_accuracy: 0.8560\n",
      "Epoch 60/100\n",
      "563/563 [==============================] - 1s 1ms/step - loss: 0.3298 - accuracy: 0.8674 - val_loss: 0.3524 - val_accuracy: 0.8560\n",
      "Epoch 61/100\n",
      "563/563 [==============================] - 1s 1ms/step - loss: 0.3294 - accuracy: 0.8658 - val_loss: 0.3525 - val_accuracy: 0.8560\n",
      "Epoch 62/100\n",
      "563/563 [==============================] - 1s 1ms/step - loss: 0.3291 - accuracy: 0.8649 - val_loss: 0.3530 - val_accuracy: 0.8565\n",
      "Epoch 63/100\n",
      "563/563 [==============================] - 1s 1ms/step - loss: 0.3294 - accuracy: 0.8640 - val_loss: 0.3546 - val_accuracy: 0.8533\n",
      "Epoch 64/100\n",
      "563/563 [==============================] - 1s 980us/step - loss: 0.3293 - accuracy: 0.8667 - val_loss: 0.3545 - val_accuracy: 0.8528\n",
      "Epoch 65/100\n",
      "563/563 [==============================] - 1s 995us/step - loss: 0.3290 - accuracy: 0.8665 - val_loss: 0.3537 - val_accuracy: 0.8565\n",
      "Epoch 66/100\n",
      "563/563 [==============================] - 1s 1ms/step - loss: 0.3294 - accuracy: 0.8676 - val_loss: 0.3536 - val_accuracy: 0.8539\n",
      "Epoch 67/100\n",
      "563/563 [==============================] - 1s 1ms/step - loss: 0.3288 - accuracy: 0.8645 - val_loss: 0.3545 - val_accuracy: 0.8555\n",
      "Epoch 68/100\n",
      "563/563 [==============================] - 1s 1ms/step - loss: 0.3290 - accuracy: 0.8652 - val_loss: 0.3540 - val_accuracy: 0.8544\n",
      "Epoch 69/100\n",
      "563/563 [==============================] - 1s 1ms/step - loss: 0.3287 - accuracy: 0.8658 - val_loss: 0.3530 - val_accuracy: 0.8576\n",
      "Epoch 70/100\n",
      "563/563 [==============================] - 1s 1ms/step - loss: 0.3285 - accuracy: 0.8665 - val_loss: 0.3551 - val_accuracy: 0.8560\n",
      "Epoch 71/100\n",
      "563/563 [==============================] - 1s 1ms/step - loss: 0.3283 - accuracy: 0.8652 - val_loss: 0.3567 - val_accuracy: 0.8523\n",
      "Epoch 72/100\n",
      "563/563 [==============================] - 1s 1ms/step - loss: 0.3287 - accuracy: 0.8656 - val_loss: 0.3545 - val_accuracy: 0.8544\n",
      "Epoch 73/100\n",
      "563/563 [==============================] - 1s 1ms/step - loss: 0.3282 - accuracy: 0.8644 - val_loss: 0.3549 - val_accuracy: 0.8549\n",
      "Epoch 74/100\n",
      "563/563 [==============================] - 1s 1ms/step - loss: 0.3281 - accuracy: 0.8674 - val_loss: 0.3550 - val_accuracy: 0.8533\n",
      "Epoch 75/100\n",
      "563/563 [==============================] - 1s 1ms/step - loss: 0.3282 - accuracy: 0.8667 - val_loss: 0.3539 - val_accuracy: 0.8539\n",
      "Epoch 76/100\n",
      "563/563 [==============================] - 1s 1ms/step - loss: 0.3281 - accuracy: 0.8672 - val_loss: 0.3554 - val_accuracy: 0.8512\n",
      "Epoch 77/100\n",
      "563/563 [==============================] - 1s 1ms/step - loss: 0.3278 - accuracy: 0.8658 - val_loss: 0.3544 - val_accuracy: 0.8533\n",
      "Epoch 78/100\n",
      "563/563 [==============================] - 1s 1ms/step - loss: 0.3279 - accuracy: 0.8667 - val_loss: 0.3544 - val_accuracy: 0.8539\n",
      "Epoch 79/100\n",
      "563/563 [==============================] - 1s 1ms/step - loss: 0.3275 - accuracy: 0.8672 - val_loss: 0.3533 - val_accuracy: 0.8539\n",
      "Epoch 80/100\n",
      "563/563 [==============================] - 1s 1ms/step - loss: 0.3281 - accuracy: 0.8647 - val_loss: 0.3549 - val_accuracy: 0.8528\n",
      "Epoch 81/100\n",
      "563/563 [==============================] - 1s 958us/step - loss: 0.3275 - accuracy: 0.8665 - val_loss: 0.3553 - val_accuracy: 0.8512\n",
      "Epoch 82/100\n",
      "563/563 [==============================] - 1s 1ms/step - loss: 0.3279 - accuracy: 0.8661 - val_loss: 0.3545 - val_accuracy: 0.8533\n",
      "Epoch 83/100\n",
      "563/563 [==============================] - 1s 1ms/step - loss: 0.3274 - accuracy: 0.8670 - val_loss: 0.3557 - val_accuracy: 0.8539\n",
      "Epoch 84/100\n",
      "563/563 [==============================] - 1s 1ms/step - loss: 0.3275 - accuracy: 0.8674 - val_loss: 0.3536 - val_accuracy: 0.8544\n",
      "Epoch 85/100\n",
      "563/563 [==============================] - 1s 1ms/step - loss: 0.3271 - accuracy: 0.8665 - val_loss: 0.3575 - val_accuracy: 0.8512\n",
      "Epoch 86/100\n",
      "563/563 [==============================] - 1s 1ms/step - loss: 0.3273 - accuracy: 0.8668 - val_loss: 0.3573 - val_accuracy: 0.8533\n",
      "Epoch 87/100\n",
      "563/563 [==============================] - 1s 956us/step - loss: 0.3276 - accuracy: 0.8661 - val_loss: 0.3545 - val_accuracy: 0.8555\n",
      "Epoch 88/100\n",
      "563/563 [==============================] - 1s 1ms/step - loss: 0.3267 - accuracy: 0.8654 - val_loss: 0.3562 - val_accuracy: 0.8539\n",
      "Epoch 89/100\n",
      "563/563 [==============================] - 1s 1ms/step - loss: 0.3277 - accuracy: 0.8647 - val_loss: 0.3553 - val_accuracy: 0.8512\n",
      "Epoch 90/100\n",
      "563/563 [==============================] - 1s 967us/step - loss: 0.3272 - accuracy: 0.8660 - val_loss: 0.3563 - val_accuracy: 0.8555\n",
      "Epoch 91/100\n",
      "563/563 [==============================] - 1s 1ms/step - loss: 0.3274 - accuracy: 0.8668 - val_loss: 0.3566 - val_accuracy: 0.8539\n",
      "Epoch 92/100\n",
      "563/563 [==============================] - 1s 1ms/step - loss: 0.3270 - accuracy: 0.8677 - val_loss: 0.3562 - val_accuracy: 0.8517\n",
      "Epoch 93/100\n",
      "563/563 [==============================] - 1s 1ms/step - loss: 0.3273 - accuracy: 0.8660 - val_loss: 0.3547 - val_accuracy: 0.8539\n",
      "Epoch 94/100\n",
      "563/563 [==============================] - 1s 1ms/step - loss: 0.3270 - accuracy: 0.8660 - val_loss: 0.3562 - val_accuracy: 0.8523\n",
      "Epoch 95/100\n",
      "563/563 [==============================] - 1s 1ms/step - loss: 0.3272 - accuracy: 0.8661 - val_loss: 0.3591 - val_accuracy: 0.8501\n",
      "Epoch 96/100\n",
      "563/563 [==============================] - 1s 1ms/step - loss: 0.3271 - accuracy: 0.8658 - val_loss: 0.3553 - val_accuracy: 0.8555\n",
      "Epoch 97/100\n",
      "563/563 [==============================] - 1s 1ms/step - loss: 0.3271 - accuracy: 0.8652 - val_loss: 0.3549 - val_accuracy: 0.8528\n",
      "Epoch 98/100\n",
      "563/563 [==============================] - 1s 1ms/step - loss: 0.3276 - accuracy: 0.8658 - val_loss: 0.3553 - val_accuracy: 0.8523\n",
      "Epoch 99/100\n",
      "563/563 [==============================] - 1s 942us/step - loss: 0.3270 - accuracy: 0.8661 - val_loss: 0.3553 - val_accuracy: 0.8565\n",
      "Epoch 100/100\n",
      "563/563 [==============================] - 1s 940us/step - loss: 0.3271 - accuracy: 0.8663 - val_loss: 0.3556 - val_accuracy: 0.8528\n"
     ]
    }
   ],
   "source": [
    "history = model.fit(X_train,y_train,batch_size=10,epochs=100,verbose=1,validation_split=0.25)"
   ]
  },
  {
   "cell_type": "code",
   "execution_count": 106,
   "id": "5d17ba73",
   "metadata": {},
   "outputs": [
    {
     "name": "stdout",
     "output_type": "stream",
     "text": [
      "79/79 [==============================] - 0s 802us/step\n"
     ]
    },
    {
     "data": {
      "text/plain": [
       "array([[ True],\n",
       "       [ True],\n",
       "       [ True],\n",
       "       ...,\n",
       "       [ True],\n",
       "       [ True],\n",
       "       [ True]])"
      ]
     },
     "execution_count": 106,
     "metadata": {},
     "output_type": "execute_result"
    }
   ],
   "source": [
    "# Making the Prediction and Accuracy Result\n",
    "# predicting the test set result\n",
    "y_pred = model.predict(X_test)\n",
    "y_pred = (y_pred>0.5)\n",
    "y_pred"
   ]
  },
  {
   "cell_type": "code",
   "execution_count": 107,
   "id": "dbac7f13",
   "metadata": {},
   "outputs": [
    {
     "name": "stdout",
     "output_type": "stream",
     "text": [
      "              precision    recall  f1-score   support\n",
      "\n",
      "           0       0.95      0.01      0.02      1982\n",
      "           1       0.21      1.00      0.35       518\n",
      "\n",
      "    accuracy                           0.22      2500\n",
      "   macro avg       0.58      0.50      0.18      2500\n",
      "weighted avg       0.80      0.22      0.09      2500\n",
      "\n"
     ]
    }
   ],
   "source": [
    "from sklearn.metrics import classification_report\n",
    "print(classification_report(y_test,y_pred))"
   ]
  },
  {
   "cell_type": "code",
   "execution_count": 108,
   "id": "bf04da9b",
   "metadata": {},
   "outputs": [
    {
     "name": "stdout",
     "output_type": "stream",
     "text": [
      "79/79 [==============================] - 0s 918us/step - loss: 0.9186 - accuracy: 0.2152\n",
      "Loss:  0.9186092615127563\n",
      "Accuracy:  0.2152000069618225\n"
     ]
    }
   ],
   "source": [
    "score=model.evaluate(X_test,y_test)\n",
    "print(\"Loss: \",score[0])\n",
    "print(\"Accuracy: \",score[1])"
   ]
  },
  {
   "cell_type": "code",
   "execution_count": 109,
   "id": "189266c3",
   "metadata": {},
   "outputs": [
    {
     "data": {
      "text/plain": [
       "array([[  21, 1961],\n",
       "       [   1,  517]], dtype=int64)"
      ]
     },
     "execution_count": 109,
     "metadata": {},
     "output_type": "execute_result"
    }
   ],
   "source": [
    "# Confusion Matrix\n",
    "from sklearn.metrics import confusion_matrix\n",
    "cm = confusion_matrix(y_test, y_pred)\n",
    "cm"
   ]
  },
  {
   "cell_type": "code",
   "execution_count": 62,
   "id": "f7f56612",
   "metadata": {},
   "outputs": [
    {
     "data": {
      "image/png": "[encoded data removed]",
      "text/plain": [
       "<Figure size 640x480 with 2 Axes>"
      ]
     },
     "metadata": {},
     "output_type": "display_data"
    }
   ],
   "source": [
    "ax=plt.axes()\n",
    "sns.heatmap(cm, annot=True,\n",
    "           annot_kws={'size':10},\n",
    "            ax=ax\n",
    "           )\n",
    "\n",
    "plt.title(\"Confusion Matrix\")\n",
    "plt.show()"
   ]
  },
  {
   "cell_type": "code",
   "execution_count": 111,
   "id": "750f4004",
   "metadata": {},
   "outputs": [
    {
     "data": {
      "text/plain": [
       "0.2152"
      ]
     },
     "execution_count": 111,
     "metadata": {},
     "output_type": "execute_result"
    }
   ],
   "source": [
    "from sklearn.metrics import accuracy_score\n",
    "accuracy_score(y_test,y_pred)"
   ]
  },
  {
   "cell_type": "code",
   "execution_count": 112,
   "id": "bc55d197",
   "metadata": {},
   "outputs": [
    {
     "data": {
      "text/plain": [
       "[<matplotlib.lines.Line2D at 0x1d665552850>]"
      ]
     },
     "execution_count": 112,
     "metadata": {},
     "output_type": "execute_result"
    },
    {
     "data": {
      "image/png": "[encoded data removed]",
      "text/plain": [
       "<Figure size 640x480 with 1 Axes>"
      ]
     },
     "metadata": {},
     "output_type": "display_data"
    }
   ],
   "source": [
    "plt.plot(history.history['loss'])\n",
    "plt.plot(history.history['val_loss'])"
   ]
  },
  {
   "cell_type": "code",
   "execution_count": 113,
   "id": "99b6ad53",
   "metadata": {},
   "outputs": [
    {
     "data": {
      "text/plain": [
       "[<matplotlib.lines.Line2D at 0x1d66572f1d0>]"
      ]
     },
     "execution_count": 113,
     "metadata": {},
     "output_type": "execute_result"
    },
    {
     "data": {
      "image/png": "[encoded data removed]",
      "text/plain": [
       "<Figure size 640x480 with 1 Axes>"
      ]
     },
     "metadata": {},
     "output_type": "display_data"
    }
   ],
   "source": [
    "plt.plot(history.history['accuracy'])\n",
    "plt.plot(history.history['val_accuracy'])"
   ]
  },
  {
   "cell_type": "code",
   "execution_count": 114,
   "id": "262173e1",
   "metadata": {},
   "outputs": [],
   "source": [
    "from sklearn import svm\n",
    "from sklearn.model_selection import GridSearchCV\n",
    "clf=GridSearchCV(svm.SVC(),{'C' :[1,10],'kernel' :['linear', 'poly', 'rbf'],'degree' :[1,2,3],'gamma' :['scale','auto']},cv=11,return_train_score=False)"
   ]
  },
  {
   "cell_type": "code",
   "execution_count": 69,
   "id": "670d30f4",
   "metadata": {},
   "outputs": [
    {
     "data": {
      "text/html": [
       "<div>\n",
       "<style scoped>\n",
       "    .dataframe tbody tr th:only-of-type {\n",
       "        vertical-align: middle;\n",
       "    }\n",
       "\n",
       "    .dataframe tbody tr th {\n",
       "        vertical-align: top;\n",
       "    }\n",
       "\n",
       "    .dataframe thead th {\n",
       "        text-align: right;\n",
       "    }\n",
       "</style>\n",
       "<table border=\"1\" class=\"dataframe\">\n",
       "  <thead>\n",
       "    <tr style=\"text-align: right;\">\n",
       "      <th></th>\n",
       "      <th>params</th>\n",
       "      <th>rank_test_score</th>\n",
       "    </tr>\n",
       "  </thead>\n",
       "  <tbody>\n",
       "    <tr>\n",
       "      <th>0</th>\n",
       "      <td>{'C': 1, 'degree': 1, 'gamma': 'scale', 'kernel': 'linear'}</td>\n",
       "      <td>21</td>\n",
       "    </tr>\n",
       "    <tr>\n",
       "      <th>1</th>\n",
       "      <td>{'C': 1, 'degree': 1, 'gamma': 'scale', 'kernel': 'poly'}</td>\n",
       "      <td>21</td>\n",
       "    </tr>\n",
       "    <tr>\n",
       "      <th>2</th>\n",
       "      <td>{'C': 1, 'degree': 1, 'gamma': 'scale', 'kernel': 'rbf'}</td>\n",
       "      <td>1</td>\n",
       "    </tr>\n",
       "    <tr>\n",
       "      <th>3</th>\n",
       "      <td>{'C': 1, 'degree': 1, 'gamma': 'auto', 'kernel': 'linear'}</td>\n",
       "      <td>21</td>\n",
       "    </tr>\n",
       "    <tr>\n",
       "      <th>4</th>\n",
       "      <td>{'C': 1, 'degree': 1, 'gamma': 'auto', 'kernel': 'poly'}</td>\n",
       "      <td>21</td>\n",
       "    </tr>\n",
       "    <tr>\n",
       "      <th>5</th>\n",
       "      <td>{'C': 1, 'degree': 1, 'gamma': 'auto', 'kernel': 'rbf'}</td>\n",
       "      <td>1</td>\n",
       "    </tr>\n",
       "    <tr>\n",
       "      <th>6</th>\n",
       "      <td>{'C': 1, 'degree': 2, 'gamma': 'scale', 'kernel': 'linear'}</td>\n",
       "      <td>21</td>\n",
       "    </tr>\n",
       "    <tr>\n",
       "      <th>7</th>\n",
       "      <td>{'C': 1, 'degree': 2, 'gamma': 'scale', 'kernel': 'poly'}</td>\n",
       "      <td>9</td>\n",
       "    </tr>\n",
       "    <tr>\n",
       "      <th>8</th>\n",
       "      <td>{'C': 1, 'degree': 2, 'gamma': 'scale', 'kernel': 'rbf'}</td>\n",
       "      <td>1</td>\n",
       "    </tr>\n",
       "    <tr>\n",
       "      <th>9</th>\n",
       "      <td>{'C': 1, 'degree': 2, 'gamma': 'auto', 'kernel': 'linear'}</td>\n",
       "      <td>21</td>\n",
       "    </tr>\n",
       "    <tr>\n",
       "      <th>10</th>\n",
       "      <td>{'C': 1, 'degree': 2, 'gamma': 'auto', 'kernel': 'poly'}</td>\n",
       "      <td>9</td>\n",
       "    </tr>\n",
       "    <tr>\n",
       "      <th>11</th>\n",
       "      <td>{'C': 1, 'degree': 2, 'gamma': 'auto', 'kernel': 'rbf'}</td>\n",
       "      <td>1</td>\n",
       "    </tr>\n",
       "    <tr>\n",
       "      <th>12</th>\n",
       "      <td>{'C': 1, 'degree': 3, 'gamma': 'scale', 'kernel': 'linear'}</td>\n",
       "      <td>21</td>\n",
       "    </tr>\n",
       "    <tr>\n",
       "      <th>13</th>\n",
       "      <td>{'C': 1, 'degree': 3, 'gamma': 'scale', 'kernel': 'poly'}</td>\n",
       "      <td>7</td>\n",
       "    </tr>\n",
       "    <tr>\n",
       "      <th>14</th>\n",
       "      <td>{'C': 1, 'degree': 3, 'gamma': 'scale', 'kernel': 'rbf'}</td>\n",
       "      <td>1</td>\n",
       "    </tr>\n",
       "    <tr>\n",
       "      <th>15</th>\n",
       "      <td>{'C': 1, 'degree': 3, 'gamma': 'auto', 'kernel': 'linear'}</td>\n",
       "      <td>21</td>\n",
       "    </tr>\n",
       "    <tr>\n",
       "      <th>16</th>\n",
       "      <td>{'C': 1, 'degree': 3, 'gamma': 'auto', 'kernel': 'poly'}</td>\n",
       "      <td>8</td>\n",
       "    </tr>\n",
       "    <tr>\n",
       "      <th>17</th>\n",
       "      <td>{'C': 1, 'degree': 3, 'gamma': 'auto', 'kernel': 'rbf'}</td>\n",
       "      <td>1</td>\n",
       "    </tr>\n",
       "    <tr>\n",
       "      <th>18</th>\n",
       "      <td>{'C': 10, 'degree': 1, 'gamma': 'scale', 'kernel': 'linear'}</td>\n",
       "      <td>21</td>\n",
       "    </tr>\n",
       "    <tr>\n",
       "      <th>19</th>\n",
       "      <td>{'C': 10, 'degree': 1, 'gamma': 'scale', 'kernel': 'poly'}</td>\n",
       "      <td>21</td>\n",
       "    </tr>\n",
       "    <tr>\n",
       "      <th>20</th>\n",
       "      <td>{'C': 10, 'degree': 1, 'gamma': 'scale', 'kernel': 'rbf'}</td>\n",
       "      <td>13</td>\n",
       "    </tr>\n",
       "    <tr>\n",
       "      <th>21</th>\n",
       "      <td>{'C': 10, 'degree': 1, 'gamma': 'auto', 'kernel': 'linear'}</td>\n",
       "      <td>21</td>\n",
       "    </tr>\n",
       "    <tr>\n",
       "      <th>22</th>\n",
       "      <td>{'C': 10, 'degree': 1, 'gamma': 'auto', 'kernel': 'poly'}</td>\n",
       "      <td>21</td>\n",
       "    </tr>\n",
       "    <tr>\n",
       "      <th>23</th>\n",
       "      <td>{'C': 10, 'degree': 1, 'gamma': 'auto', 'kernel': 'rbf'}</td>\n",
       "      <td>13</td>\n",
       "    </tr>\n",
       "    <tr>\n",
       "      <th>24</th>\n",
       "      <td>{'C': 10, 'degree': 2, 'gamma': 'scale', 'kernel': 'linear'}</td>\n",
       "      <td>21</td>\n",
       "    </tr>\n",
       "    <tr>\n",
       "      <th>25</th>\n",
       "      <td>{'C': 10, 'degree': 2, 'gamma': 'scale', 'kernel': 'poly'}</td>\n",
       "      <td>9</td>\n",
       "    </tr>\n",
       "    <tr>\n",
       "      <th>26</th>\n",
       "      <td>{'C': 10, 'degree': 2, 'gamma': 'scale', 'kernel': 'rbf'}</td>\n",
       "      <td>13</td>\n",
       "    </tr>\n",
       "    <tr>\n",
       "      <th>27</th>\n",
       "      <td>{'C': 10, 'degree': 2, 'gamma': 'auto', 'kernel': 'linear'}</td>\n",
       "      <td>21</td>\n",
       "    </tr>\n",
       "    <tr>\n",
       "      <th>28</th>\n",
       "      <td>{'C': 10, 'degree': 2, 'gamma': 'auto', 'kernel': 'poly'}</td>\n",
       "      <td>9</td>\n",
       "    </tr>\n",
       "    <tr>\n",
       "      <th>29</th>\n",
       "      <td>{'C': 10, 'degree': 2, 'gamma': 'auto', 'kernel': 'rbf'}</td>\n",
       "      <td>13</td>\n",
       "    </tr>\n",
       "    <tr>\n",
       "      <th>30</th>\n",
       "      <td>{'C': 10, 'degree': 3, 'gamma': 'scale', 'kernel': 'linear'}</td>\n",
       "      <td>21</td>\n",
       "    </tr>\n",
       "    <tr>\n",
       "      <th>31</th>\n",
       "      <td>{'C': 10, 'degree': 3, 'gamma': 'scale', 'kernel': 'poly'}</td>\n",
       "      <td>19</td>\n",
       "    </tr>\n",
       "    <tr>\n",
       "      <th>32</th>\n",
       "      <td>{'C': 10, 'degree': 3, 'gamma': 'scale', 'kernel': 'rbf'}</td>\n",
       "      <td>13</td>\n",
       "    </tr>\n",
       "    <tr>\n",
       "      <th>33</th>\n",
       "      <td>{'C': 10, 'degree': 3, 'gamma': 'auto', 'kernel': 'linear'}</td>\n",
       "      <td>21</td>\n",
       "    </tr>\n",
       "    <tr>\n",
       "      <th>34</th>\n",
       "      <td>{'C': 10, 'degree': 3, 'gamma': 'auto', 'kernel': 'poly'}</td>\n",
       "      <td>19</td>\n",
       "    </tr>\n",
       "    <tr>\n",
       "      <th>35</th>\n",
       "      <td>{'C': 10, 'degree': 3, 'gamma': 'auto', 'kernel': 'rbf'}</td>\n",
       "      <td>13</td>\n",
       "    </tr>\n",
       "  </tbody>\n",
       "</table>\n",
       "</div>"
      ],
      "text/plain": [
       "                                                          params  \\\n",
       "0   {'C': 1, 'degree': 1, 'gamma': 'scale', 'kernel': 'linear'}    \n",
       "1   {'C': 1, 'degree': 1, 'gamma': 'scale', 'kernel': 'poly'}      \n",
       "2   {'C': 1, 'degree': 1, 'gamma': 'scale', 'kernel': 'rbf'}       \n",
       "3   {'C': 1, 'degree': 1, 'gamma': 'auto', 'kernel': 'linear'}     \n",
       "4   {'C': 1, 'degree': 1, 'gamma': 'auto', 'kernel': 'poly'}       \n",
       "5   {'C': 1, 'degree': 1, 'gamma': 'auto', 'kernel': 'rbf'}        \n",
       "6   {'C': 1, 'degree': 2, 'gamma': 'scale', 'kernel': 'linear'}    \n",
       "7   {'C': 1, 'degree': 2, 'gamma': 'scale', 'kernel': 'poly'}      \n",
       "8   {'C': 1, 'degree': 2, 'gamma': 'scale', 'kernel': 'rbf'}       \n",
       "9   {'C': 1, 'degree': 2, 'gamma': 'auto', 'kernel': 'linear'}     \n",
       "10  {'C': 1, 'degree': 2, 'gamma': 'auto', 'kernel': 'poly'}       \n",
       "11  {'C': 1, 'degree': 2, 'gamma': 'auto', 'kernel': 'rbf'}        \n",
       "12  {'C': 1, 'degree': 3, 'gamma': 'scale', 'kernel': 'linear'}    \n",
       "13  {'C': 1, 'degree': 3, 'gamma': 'scale', 'kernel': 'poly'}      \n",
       "14  {'C': 1, 'degree': 3, 'gamma': 'scale', 'kernel': 'rbf'}       \n",
       "15  {'C': 1, 'degree': 3, 'gamma': 'auto', 'kernel': 'linear'}     \n",
       "16  {'C': 1, 'degree': 3, 'gamma': 'auto', 'kernel': 'poly'}       \n",
       "17  {'C': 1, 'degree': 3, 'gamma': 'auto', 'kernel': 'rbf'}        \n",
       "18  {'C': 10, 'degree': 1, 'gamma': 'scale', 'kernel': 'linear'}   \n",
       "19  {'C': 10, 'degree': 1, 'gamma': 'scale', 'kernel': 'poly'}     \n",
       "20  {'C': 10, 'degree': 1, 'gamma': 'scale', 'kernel': 'rbf'}      \n",
       "21  {'C': 10, 'degree': 1, 'gamma': 'auto', 'kernel': 'linear'}    \n",
       "22  {'C': 10, 'degree': 1, 'gamma': 'auto', 'kernel': 'poly'}      \n",
       "23  {'C': 10, 'degree': 1, 'gamma': 'auto', 'kernel': 'rbf'}       \n",
       "24  {'C': 10, 'degree': 2, 'gamma': 'scale', 'kernel': 'linear'}   \n",
       "25  {'C': 10, 'degree': 2, 'gamma': 'scale', 'kernel': 'poly'}     \n",
       "26  {'C': 10, 'degree': 2, 'gamma': 'scale', 'kernel': 'rbf'}      \n",
       "27  {'C': 10, 'degree': 2, 'gamma': 'auto', 'kernel': 'linear'}    \n",
       "28  {'C': 10, 'degree': 2, 'gamma': 'auto', 'kernel': 'poly'}      \n",
       "29  {'C': 10, 'degree': 2, 'gamma': 'auto', 'kernel': 'rbf'}       \n",
       "30  {'C': 10, 'degree': 3, 'gamma': 'scale', 'kernel': 'linear'}   \n",
       "31  {'C': 10, 'degree': 3, 'gamma': 'scale', 'kernel': 'poly'}     \n",
       "32  {'C': 10, 'degree': 3, 'gamma': 'scale', 'kernel': 'rbf'}      \n",
       "33  {'C': 10, 'degree': 3, 'gamma': 'auto', 'kernel': 'linear'}    \n",
       "34  {'C': 10, 'degree': 3, 'gamma': 'auto', 'kernel': 'poly'}      \n",
       "35  {'C': 10, 'degree': 3, 'gamma': 'auto', 'kernel': 'rbf'}       \n",
       "\n",
       "    rank_test_score  \n",
       "0   21               \n",
       "1   21               \n",
       "2   1                \n",
       "3   21               \n",
       "4   21               \n",
       "5   1                \n",
       "6   21               \n",
       "7   9                \n",
       "8   1                \n",
       "9   21               \n",
       "10  9                \n",
       "11  1                \n",
       "12  21               \n",
       "13  7                \n",
       "14  1                \n",
       "15  21               \n",
       "16  8                \n",
       "17  1                \n",
       "18  21               \n",
       "19  21               \n",
       "20  13               \n",
       "21  21               \n",
       "22  21               \n",
       "23  13               \n",
       "24  21               \n",
       "25  9                \n",
       "26  13               \n",
       "27  21               \n",
       "28  9                \n",
       "29  13               \n",
       "30  21               \n",
       "31  19               \n",
       "32  13               \n",
       "33  21               \n",
       "34  19               \n",
       "35  13               "
      ]
     },
     "execution_count": 69,
     "metadata": {},
     "output_type": "execute_result"
    }
   ],
   "source": [
    "clf.fit(X_train[:1000],y_train[0:1000])\n",
    "pd.set_option('display.max_colwidth',0)\n",
    "res = clf.cv_results_\n",
    "result = pd.DataFrame(res)\n",
    "result[['params','rank_test_score']]"
   ]
  },
  {
   "cell_type": "code",
   "execution_count": 115,
   "id": "a379101c",
   "metadata": {},
   "outputs": [
    {
     "data": {
      "text/plain": [
       "10000"
      ]
     },
     "execution_count": 115,
     "metadata": {},
     "output_type": "execute_result"
    }
   ],
   "source": [
    "X.value_counts().sum()"
   ]
  },
  {
   "cell_type": "code",
   "execution_count": 117,
   "id": "ea739e79",
   "metadata": {},
   "outputs": [],
   "source": [
    "modsvm = svm.SVC(kernel = 'rbf', degree = 1, gamma = 'scale' , C =1)"
   ]
  },
  {
   "cell_type": "code",
   "execution_count": 118,
   "id": "69e3bb09",
   "metadata": {},
   "outputs": [
    {
     "data": {
      "text/html": [
       "<style>#sk-container-id-2 {color: black;}#sk-container-id-2 pre{padding: 0;}#sk-container-id-2 div.sk-toggleable {background-color: white;}#sk-container-id-2 label.sk-toggleable__label {cursor: pointer;display: block;width: 100%;margin-bottom: 0;padding: 0.3em;box-sizing: border-box;text-align: center;}#sk-container-id-2 label.sk-toggleable__label-arrow:before {content: \"▸\";float: left;margin-right: 0.25em;color: #696969;}#sk-container-id-2 label.sk-toggleable__label-arrow:hover:before {color: black;}#sk-container-id-2 div.sk-estimator:hover label.sk-toggleable__label-arrow:before {color: black;}#sk-container-id-2 div.sk-toggleable__content {max-height: 0;max-width: 0;overflow: hidden;text-align: left;background-color: #f0f8ff;}#sk-container-id-2 div.sk-toggleable__content pre {margin: 0.2em;color: black;border-radius: 0.25em;background-color: #f0f8ff;}#sk-container-id-2 input.sk-toggleable__control:checked~div.sk-toggleable__content {max-height: 200px;max-width: 100%;overflow: auto;}#sk-container-id-2 input.sk-toggleable__control:checked~label.sk-toggleable__label-arrow:before {content: \"▾\";}#sk-container-id-2 div.sk-estimator input.sk-toggleable__control:checked~label.sk-toggleable__label {background-color: #d4ebff;}#sk-container-id-2 div.sk-label input.sk-toggleable__control:checked~label.sk-toggleable__label {background-color: #d4ebff;}#sk-container-id-2 input.sk-hidden--visually {border: 0;clip: rect(1px 1px 1px 1px);clip: rect(1px, 1px, 1px, 1px);height: 1px;margin: -1px;overflow: hidden;padding: 0;position: absolute;width: 1px;}#sk-container-id-2 div.sk-estimator {font-family: monospace;background-color: #f0f8ff;border: 1px dotted black;border-radius: 0.25em;box-sizing: border-box;margin-bottom: 0.5em;}#sk-container-id-2 div.sk-estimator:hover {background-color: #d4ebff;}#sk-container-id-2 div.sk-parallel-item::after {content: \"\";width: 100%;border-bottom: 1px solid gray;flex-grow: 1;}#sk-container-id-2 div.sk-label:hover label.sk-toggleable__label {background-color: #d4ebff;}#sk-container-id-2 div.sk-serial::before {content: \"\";position: absolute;border-left: 1px solid gray;box-sizing: border-box;top: 0;bottom: 0;left: 50%;z-index: 0;}#sk-container-id-2 div.sk-serial {display: flex;flex-direction: column;align-items: center;background-color: white;padding-right: 0.2em;padding-left: 0.2em;position: relative;}#sk-container-id-2 div.sk-item {position: relative;z-index: 1;}#sk-container-id-2 div.sk-parallel {display: flex;align-items: stretch;justify-content: center;background-color: white;position: relative;}#sk-container-id-2 div.sk-item::before, #sk-container-id-2 div.sk-parallel-item::before {content: \"\";position: absolute;border-left: 1px solid gray;box-sizing: border-box;top: 0;bottom: 0;left: 50%;z-index: -1;}#sk-container-id-2 div.sk-parallel-item {display: flex;flex-direction: column;z-index: 1;position: relative;background-color: white;}#sk-container-id-2 div.sk-parallel-item:first-child::after {align-self: flex-end;width: 50%;}#sk-container-id-2 div.sk-parallel-item:last-child::after {align-self: flex-start;width: 50%;}#sk-container-id-2 div.sk-parallel-item:only-child::after {width: 0;}#sk-container-id-2 div.sk-dashed-wrapped {border: 1px dashed gray;margin: 0 0.4em 0.5em 0.4em;box-sizing: border-box;padding-bottom: 0.4em;background-color: white;}#sk-container-id-2 div.sk-label label {font-family: monospace;font-weight: bold;display: inline-block;line-height: 1.2em;}#sk-container-id-2 div.sk-label-container {text-align: center;}#sk-container-id-2 div.sk-container {/* jupyter's `normalize.less` sets `[hidden] { display: none; }` but bootstrap.min.css set `[hidden] { display: none !important; }` so we also need the `!important` here to be able to override the default hidden behavior on the sphinx rendered scikit-learn.org. See: https://github.com/scikit-learn/scikit-learn/issues/21755 */display: inline-block !important;position: relative;}#sk-container-id-2 div.sk-text-repr-fallback {display: none;}</style><div id=\"sk-container-id-2\" class=\"sk-top-container\"><div class=\"sk-text-repr-fallback\"><pre>SVC(C=1, degree=1)</pre><b>In a Jupyter environment, please rerun this cell to show the HTML representation or trust the notebook. <br />On GitHub, the HTML representation is unable to render, please try loading this page with nbviewer.org.</b></div><div class=\"sk-container\" hidden><div class=\"sk-item\"><div class=\"sk-estimator sk-toggleable\"><input class=\"sk-toggleable__control sk-hidden--visually\" id=\"sk-estimator-id-2\" type=\"checkbox\" checked><label for=\"sk-estimator-id-2\" class=\"sk-toggleable__label sk-toggleable__label-arrow\">SVC</label><div class=\"sk-toggleable__content\"><pre>SVC(C=1, degree=1)</pre></div></div></div></div></div>"
      ],
      "text/plain": [
       "SVC(C=1, degree=1)"
      ]
     },
     "execution_count": 118,
     "metadata": {},
     "output_type": "execute_result"
    }
   ],
   "source": [
    "modsvm.fit(X_train,y_train)"
   ]
  },
  {
   "cell_type": "code",
   "execution_count": 119,
   "id": "324b4eee",
   "metadata": {},
   "outputs": [],
   "source": [
    "y_pred2 = modsvm.predict(X_test)"
   ]
  },
  {
   "cell_type": "code",
   "execution_count": 120,
   "id": "7517be7f",
   "metadata": {},
   "outputs": [
    {
     "data": {
      "text/plain": [
       "0.8564"
      ]
     },
     "execution_count": 120,
     "metadata": {},
     "output_type": "execute_result"
    }
   ],
   "source": [
    "accuracy_score(y_pred2,y_test)"
   ]
  },
  {
   "cell_type": "code",
   "execution_count": 121,
   "id": "a8557007",
   "metadata": {},
   "outputs": [],
   "source": [
    "# ANN = 0.8588 AND SVM = 0.8564 almost same accuracy"
   ]
  }
 ],
 "metadata": {
  "kernelspec": {
   "display_name": "Python 3 (ipykernel)",
   "language": "python",
   "name": "python3"
  },
  "language_info": {
   "codemirror_mode": {
    "name": "ipython",
    "version": 3
   },
   "file_extension": ".py",
   "mimetype": "text/x-python",
   "name": "python",
   "nbconvert_exporter": "python",
   "pygments_lexer": "ipython3",
   "version": "3.11.4"
  }
 },
 "nbformat": 4,
 "nbformat_minor": 5
}
